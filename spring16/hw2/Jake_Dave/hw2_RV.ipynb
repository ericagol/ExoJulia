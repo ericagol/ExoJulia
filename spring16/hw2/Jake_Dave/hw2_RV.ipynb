{
 "cells": [
  {
   "cell_type": "code",
   "execution_count": 174,
   "metadata": {
    "collapsed": true
   },
   "outputs": [],
   "source": [
    "# Getting started"
   ]
  },
  {
   "cell_type": "code",
   "execution_count": 175,
   "metadata": {
    "collapsed": false
   },
   "outputs": [
    {
     "data": {
      "text/plain": [
       "4-element Array{ByteString,1}:\n",
       " \"/Applications/Julia-0.4.5.app/Contents/Resources/julia/local/share/julia/site/v0.4\"\n",
       " \"/Applications/Julia-0.4.5.app/Contents/Resources/julia/share/julia/site/v0.4\"      \n",
       " \"../../../ExoJulia/\"                                                                \n",
       " \"../../../ExoJulia/\"                                                                "
      ]
     },
     "execution_count": 175,
     "metadata": {},
     "output_type": "execute_result"
    }
   ],
   "source": [
    "push!(LOAD_PATH, \"../../../ExoJulia/\")"
   ]
  },
  {
   "cell_type": "code",
   "execution_count": 176,
   "metadata": {
    "collapsed": false
   },
   "outputs": [
    {
     "name": "stderr",
     "output_type": "stream",
     "text": [
      "INFO: Nothing to be done\n",
      "INFO: METADATA is out-of-date — you may not have the latest version of LsqFit\n",
      "INFO: Use `Pkg.update()` to get the latest versions of your packages\n"
     ]
    }
   ],
   "source": [
    "Pkg.add(\"LsqFit\")"
   ]
  },
  {
   "cell_type": "code",
   "execution_count": 177,
   "metadata": {
    "collapsed": false
   },
   "outputs": [],
   "source": [
    "using ExoJulia\n",
    "using PyPlot\n",
    "using LsqFit"
   ]
  },
  {
   "cell_type": "code",
   "execution_count": 178,
   "metadata": {
    "collapsed": false
   },
   "outputs": [
    {
     "data": {
      "text/plain": [
       "agol_periodogram (generic function with 1 method)"
      ]
     },
     "execution_count": 178,
     "metadata": {},
     "output_type": "execute_result"
    }
   ],
   "source": [
    "include(\"utils.jl\")\n",
    "include(\"orbital_utils.jl\")\n",
    "include(\"rv.jl\")"
   ]
  },
  {
   "cell_type": "markdown",
   "metadata": {},
   "source": [
    "### Read-in Mystery RV data"
   ]
  },
  {
   "cell_type": "code",
   "execution_count": 179,
   "metadata": {
    "collapsed": false
   },
   "outputs": [],
   "source": [
    "numbers = readdlm(\"mystery_planet.txt\");"
   ]
  },
  {
   "cell_type": "code",
   "execution_count": 180,
   "metadata": {
    "collapsed": false
   },
   "outputs": [],
   "source": [
    "time = numbers[:,1];\n",
    "rv = numbers[:,2];\n",
    "err = numbers[:,end];"
   ]
  },
  {
   "cell_type": "code",
   "execution_count": 181,
   "metadata": {
    "collapsed": false
   },
   "outputs": [
    {
     "data": {
      "image/png": "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",
      "text/plain": [
       "PyPlot.Figure(PyObject <matplotlib.figure.Figure object at 0x3137f4810>)"
      ]
     },
     "metadata": {},
     "output_type": "display_data"
    },
    {
     "data": {
      "text/plain": [
       "PyObject <matplotlib.text.Text object at 0x313dd4e90>"
      ]
     },
     "execution_count": 181,
     "metadata": {},
     "output_type": "execute_result"
    }
   ],
   "source": [
    "plot(time, rv, \"o\", ms=2.0)\n",
    "xlabel(\"Time\")\n",
    "ylabel(\"RV\")"
   ]
  },
  {
   "cell_type": "markdown",
   "metadata": {},
   "source": [
    "## Period Fitting"
   ]
  },
  {
   "cell_type": "markdown",
   "metadata": {},
   "source": [
    "### Agol Method"
   ]
  },
  {
   "cell_type": "code",
   "execution_count": 182,
   "metadata": {
    "collapsed": false
   },
   "outputs": [
    {
     "data": {
      "text/plain": [
       "linspace(1.0,365.0,1000)"
      ]
     },
     "execution_count": 182,
     "metadata": {},
     "output_type": "execute_result"
    }
   ],
   "source": [
    "periods = linspace(1.0, 365.0, 1000)"
   ]
  },
  {
   "cell_type": "code",
   "execution_count": 183,
   "metadata": {
    "collapsed": false
   },
   "outputs": [],
   "source": [
    "p = collect(periods);"
   ]
  },
  {
   "cell_type": "code",
   "execution_count": 184,
   "metadata": {
    "collapsed": false
   },
   "outputs": [
    {
     "name": "stdout",
     "output_type": "stream",
     "text": [
      "  "
     ]
    },
    {
     "data": {
      "text/plain": [
       "116.50350350350351"
      ]
     },
     "execution_count": 184,
     "metadata": {},
     "output_type": "execute_result"
    }
   ],
   "source": [
    "@time best_period = agol_periodogram(numbers, p)\n",
    "# [time rv err]"
   ]
  },
  {
   "cell_type": "markdown",
   "metadata": {},
   "source": [
    "## RV Fitting"
   ]
  },
  {
   "cell_type": "markdown",
   "metadata": {},
   "source": [
    "### Matrix Approach"
   ]
  },
  {
   "cell_type": "code",
<<<<<<< HEAD
   "execution_count": 4,
=======
   "execution_count": 185,
>>>>>>> c07b7b44e9d9fe15aa71ed00d4875e353c31c2dc
   "metadata": {
    "collapsed": true
   },
   "outputs": [],
   "source": [
    "using Optim"
   ]
  },
  {
   "cell_type": "code",
<<<<<<< HEAD
   "execution_count": 5,
=======
   "execution_count": 186,
>>>>>>> c07b7b44e9d9fe15aa71ed00d4875e353c31c2dc
   "metadata": {
    "collapsed": false
   },
   "outputs": [
    {
     "data": {
      "text/plain": [
       "WH_W (generic function with 1 method)"
      ]
     },
<<<<<<< HEAD
     "execution_count": 5,
=======
     "execution_count": 186,
>>>>>>> c07b7b44e9d9fe15aa71ed00d4875e353c31c2dc
     "metadata": {},
     "output_type": "execute_result"
    }
   ],
   "source": [
    "function WH_W(err::Array{Float64,1})\n",
    "    # Compose Wright & Howard  matrix\n",
    "    W = zeros(Float64,length(err), length(err))\n",
    "    for i=1:length(err)\n",
    "        W[i,i] = 1./err[i]^2\n",
    "    end \n",
    "    return W\n",
    "end "
   ]
  },
  {
   "cell_type": "code",
   "execution_count": 187,
   "metadata": {
    "collapsed": false
   },
   "outputs": [],
   "source": [
    "@time W = WH_W(err);"
   ]
  },
  {
   "cell_type": "code",
<<<<<<< HEAD
   "execution_count": 6,
=======
   "execution_count": 188,
>>>>>>> c07b7b44e9d9fe15aa71ed00d4875e353c31c2dc
   "metadata": {
    "collapsed": false
   },
   "outputs": [
    {
     "data": {
      "text/plain": [
       "f_from_t (generic function with 1 method)"
      ]
     },
<<<<<<< HEAD
     "execution_count": 6,
=======
     "execution_count": 188,
>>>>>>> c07b7b44e9d9fe15aa71ed00d4875e353c31c2dc
     "metadata": {},
     "output_type": "execute_result"
    }
   ],
   "source": [
    "function f_from_t(P::Float64, ecc::Float64, t::Float64, tp::Float64)\n",
    "    f_from_M(ecc, mean_anomaly(P, t, tp))\n",
    "end "
   ]
  },
  {
   "cell_type": "code",
<<<<<<< HEAD
   "execution_count": 7,
=======
   "execution_count": 189,
>>>>>>> c07b7b44e9d9fe15aa71ed00d4875e353c31c2dc
   "metadata": {
    "collapsed": false
   },
   "outputs": [
    {
     "data": {
      "text/plain": [
       "WH_F (generic function with 1 method)"
      ]
     },
<<<<<<< HEAD
     "execution_count": 7,
=======
     "execution_count": 189,
>>>>>>> c07b7b44e9d9fe15aa71ed00d4875e353c31c2dc
     "metadata": {},
     "output_type": "execute_result"
    }
   ],
   "source": [
    "function WH_F(P::Float64, ecc::Float64, t::Array{Float64, 1}, tp::Float64; Nplanets::Int=1)\n",
    "    # Compute Wright & Howard F matrix\n",
    "    \n",
    "    # Allocate matrix\n",
    "    F = zeros(Float64, (2*Nplanets+2), length(t))\n",
    "    \n",
    "    # Fill matrix\n",
    "    for i=1:Nplanets\n",
    "        for j=1:length(t)\n",
    "            f = f_from_t(P, ecc, t[j], tp)\n",
    "            F[2*i - 1,j] = cos(f)\n",
    "            F[2*i, j] = sin(f)\n",
    "        end \n",
    "    end \n",
    "    \n",
    "    # \n",
    "    for j=1:length(t)\n",
    "        F[end-1, j] = 1.0\n",
    "        F[end, j] = t[j] - t[1]\n",
    "    end \n",
    "    return F\n",
    "end"
   ]
  },
  {
   "cell_type": "code",
   "execution_count": 190,
   "metadata": {
    "collapsed": false
   },
   "outputs": [
    {
     "data": {
      "text/plain": [
       "4x59 Array{Float64,2}:\n",
       "  0.888667   0.888653   0.888638   -0.676289  …     0.993909    -0.608466\n",
       " -0.458553  -0.45858   -0.458609   -0.736636       -0.110207     0.79358 \n",
       "  1.0        1.0        1.0         1.0             1.0          1.0     \n",
       "  0.0        0.00068    0.0014    151.344        2554.91      2741.37    "
      ]
     },
     "execution_count": 190,
     "metadata": {},
     "output_type": "execute_result"
    }
   ],
   "source": [
    "F = WH_F(best_period, 0.1, time, 1.0)"
   ]
  },
  {
   "cell_type": "code",
<<<<<<< HEAD
   "execution_count": 8,
=======
   "execution_count": 191,
>>>>>>> c07b7b44e9d9fe15aa71ed00d4875e353c31c2dc
   "metadata": {
    "collapsed": false
   },
   "outputs": [
    {
     "data": {
      "text/plain": [
       "WH_eps (generic function with 1 method)"
      ]
     },
<<<<<<< HEAD
     "execution_count": 8,
=======
     "execution_count": 191,
>>>>>>> c07b7b44e9d9fe15aa71ed00d4875e353c31c2dc
     "metadata": {},
     "output_type": "execute_result"
    }
   ],
   "source": [
    "function WH_eps(F::Array{Float64, 2}, W::Array{Float64, 2})\n",
    "    # Compute Wright & Howard epsilon matrix\n",
    "    return inv(F * W * (F'))\n",
    "end "
   ]
  },
  {
   "cell_type": "code",
   "execution_count": 192,
   "metadata": {
    "collapsed": false
   },
   "outputs": [
    {
     "data": {
      "text/plain": [
       "4x4 Array{Float64,2}:\n",
       "  0.0619111    0.00841312  -0.0232701    6.724e-6  \n",
       "  0.00841312   0.0519541   -0.0103421    1.57186e-6\n",
       " -0.0232701   -0.0103421    0.090729    -5.49553e-5\n",
       "  6.724e-6     1.57186e-6  -5.49553e-5   5.00102e-8"
      ]
     },
     "execution_count": 192,
     "metadata": {},
     "output_type": "execute_result"
    }
   ],
   "source": [
    "WH_eps(F, W)"
   ]
  },
  {
   "cell_type": "code",
<<<<<<< HEAD
   "execution_count": 9,
=======
   "execution_count": 193,
>>>>>>> c07b7b44e9d9fe15aa71ed00d4875e353c31c2dc
   "metadata": {
    "collapsed": false
   },
   "outputs": [
    {
     "data": {
      "text/plain": [
       "WH_Beta (generic function with 1 method)"
      ]
     },
<<<<<<< HEAD
     "execution_count": 9,
=======
     "execution_count": 193,
>>>>>>> c07b7b44e9d9fe15aa71ed00d4875e353c31c2dc
     "metadata": {},
     "output_type": "execute_result"
    }
   ],
   "source": [
    "function WH_Beta(RV::Array{Float64, 2}, F::Array{Float64, 2}, W::Array{Float64, 2})\n",
    "    # Compute Wright & Howard Beta vector\n",
    "    return RV * W * (F') * WH_eps(F, W)\n",
    "end "
   ]
  },
  {
   "cell_type": "code",
   "execution_count": 194,
   "metadata": {
    "collapsed": false
   },
   "outputs": [
    {
     "data": {
      "text/plain": [
       "1x4 Array{Float64,2}:\n",
       " -4.33385  295.656  -42.4736  -0.00338345"
      ]
     },
     "execution_count": 194,
     "metadata": {},
     "output_type": "execute_result"
    },
    {
     "name": "stdout",
     "output_type": "stream",
     "text": [
      "0.161350 seconds (123.63 k allocations: 12.678 MB)\n",
      "  0.007380 seconds (2.75 k allocations: 162.767 KB)\n"
     ]
    }
   ],
   "source": [
    "B = WH_Beta(rv', F, W)"
   ]
  },
  {
   "cell_type": "code",
<<<<<<< HEAD
   "execution_count": 10,
=======
   "execution_count": 195,
>>>>>>> c07b7b44e9d9fe15aa71ed00d4875e353c31c2dc
   "metadata": {
    "collapsed": false
   },
   "outputs": [
    {
     "data": {
      "text/plain": [
       "rv_forward (generic function with 1 method)"
      ]
     },
<<<<<<< HEAD
     "execution_count": 10,
=======
     "execution_count": 195,
>>>>>>> c07b7b44e9d9fe15aa71ed00d4875e353c31c2dc
     "metadata": {},
     "output_type": "execute_result"
    }
   ],
   "source": [
    "function rv_forward(P::Float64, ecc::Float64, tp::Float64, t::Array{Float64,1}, rv::Array{Float64,1}, err::Array{Float64,1}; Nplanets::Int=1)\n",
    "    # Calculates model RV given linear params: [h, c, v0, d, tp]\n",
    "    \n",
    "    # Allocate \n",
    "    rv_mod = zeros(Float64, Nplanets, length(t))\n",
    "    \n",
    "    # Calculate Wright & Howard Beta Vector, B = [h_i, c_i, ..., h_n, c_n, v0, d] for n planets\n",
    "    B = WH_Beta(rv', WH_F(P, ecc, t, tp), WH_W(err))\n",
    "    \n",
    "    # Loop over planets and observations, calculating model rv points\n",
    "    for i=1:Nplanets\n",
    "        for j=1:length(t)\n",
    "            f = f_from_t(P, ecc, t[j], tp)\n",
    "            rv_mod[i,j] = v_rad_lin(B[i,1], f, B[i,2], B[i,end-1], t[j], t[1], B[i,end])\n",
    "        end \n",
    "    end \n",
    "    \n",
    "    return rv_mod, B\n",
    "end "
   ]
  },
  {
   "cell_type": "code",
<<<<<<< HEAD
   "execution_count": 11,
=======
   "execution_count": 196,
>>>>>>> c07b7b44e9d9fe15aa71ed00d4875e353c31c2dc
   "metadata": {
    "collapsed": false
   },
   "outputs": [
    {
     "data": {
      "text/plain": [
       "loglike (generic function with 1 method)"
      ]
     },
<<<<<<< HEAD
     "execution_count": 11,
=======
     "execution_count": 196,
>>>>>>> c07b7b44e9d9fe15aa71ed00d4875e353c31c2dc
     "metadata": {},
     "output_type": "execute_result"
    }
   ],
   "source": [
    "function loglike(data, model, err)\n",
    "    # Chi^2\n",
    "    ll = 0.0;\n",
    "    for i=1:length(data)\n",
    "        ll -= 0.5 * (data[i] - model[i])^2 / (err[i])^2;\n",
    "    end\n",
    "    return ll\n",
    "end "
   ]
  },
  {
   "cell_type": "markdown",
   "metadata": {},
   "source": [
    "### Grid-search"
   ]
  },
  {
   "cell_type": "code",
   "execution_count": 197,
   "metadata": {
    "collapsed": false
   },
   "outputs": [],
   "source": [
    "ecc = linspace(0.0, 0.99, 1000);\n",
    "tp = linspace(time[1], time[end], 1000);\n",
    "period = best_period;\n",
    "\n",
    "ll_min = -1.0e20;\n",
    "B_best = nothing;\n",
    "ecc_best = nothing;\n",
    "tp_best = nothing;\n",
    "rv_best = nothing;\n",
    "for i=1:length(ecc)\n",
    "    for j=1:length(tp)\n",
    "        rv_mod, B = rv_forward(period, ecc[i], tp[j], time, rv, err);\n",
    "        ll = loglike(rv, rv_mod, err);\n",
    "        if ll > ll_min\n",
    "            B_best = B;\n",
    "            ll_min = ll;\n",
    "            ecc_best = ecc[i];\n",
    "            tp_best = tp[j];\n",
    "            rv_best = rv_mod;\n",
    "        end \n",
    "    end \n",
    "end         "
   ]
  },
  {
   "cell_type": "code",
   "execution_count": 198,
   "metadata": {
    "collapsed": false
   },
   "outputs": [
    {
     "data": {
      "text/plain": [
       "0.40531531531531534"
      ]
     },
     "execution_count": 198,
     "metadata": {},
     "output_type": "execute_result"
    }
   ],
   "source": [
    "ecc_best"
   ]
  },
  {
   "cell_type": "code",
   "execution_count": 199,
   "metadata": {
    "collapsed": false
   },
   "outputs": [
    {
     "data": {
      "text/plain": [
       "rv_grid (generic function with 1 method)"
      ]
     },
     "execution_count": 199,
     "metadata": {},
     "output_type": "execute_result"
    }
   ],
   "source": [
    "function rv_grid(rv_data, time, err; N::Int=1000)    \n",
    "    ecc = linspace(0.0, 0.99, N);\n",
    "    tp = linspace(time[1], time[end], N);\n",
    "    period = best_period;\n",
    "\n",
    "    ll_min = -1.0e20;\n",
    "    B_best = nothing;\n",
    "    ecc_best = nothing;\n",
    "    tp_best = nothing;\n",
    "    rv_best = nothing;\n",
    "    for i=1:length(eccentricity)\n",
    "        for j=1:length(tp)\n",
    "            rv_mod, B = rv_forward(period, ecc[i], tp[j], time, rv, err);\n",
    "            ll = loglike(rv, rv_mod, err);\n",
    "            if ll > ll_min\n",
    "                B_best = B;\n",
    "                ll_min = ll;\n",
    "                ecc_best = ecc[i];\n",
    "                tp_best = tp[j];\n",
    "                rv_best = rv_mod;\n",
    "            end \n",
    "        end \n",
    "    end \n",
    "    \n",
    "end "
   ]
  },
  {
   "cell_type": "code",
   "execution_count": 200,
   "metadata": {
    "collapsed": false
   },
   "outputs": [
    {
     "ename": "LoadError",
     "evalue": "LoadError: UndefVarError: time_fold not defined\nwhile loading In[200], in expression starting on line 1",
     "output_type": "error",
     "traceback": [
      "LoadError: UndefVarError: time_fold not defined\nwhile loading In[200], in expression starting on line 1",
      ""
     ]
    }
   ],
   "source": [
    "plot(time_fold, rv_best', \"o\", ms=5)\n",
    "plot(time_fold, rv, \"o\")\n",
    "xlabel(\"Days\")\n",
    "ylabel(\"RV\")"
   ]
  },
  {
   "cell_type": "code",
<<<<<<< HEAD
   "execution_count": 19,
=======
   "execution_count": 201,
>>>>>>> c07b7b44e9d9fe15aa71ed00d4875e353c31c2dc
   "metadata": {
    "collapsed": false
   },
   "outputs": [
    {
     "data": {
      "text/plain": [
       "rv_loglike (generic function with 1 method)"
      ]
     },
<<<<<<< HEAD
     "execution_count": 19,
=======
     "execution_count": 201,
>>>>>>> c07b7b44e9d9fe15aa71ed00d4875e353c31c2dc
     "metadata": {},
     "output_type": "execute_result"
    }
   ],
   "source": [
    "function rv_loglike(rho; kwargs...)\n",
    "    #rho = [period, ecc, tp]\n",
    "    \n",
    "    # hard bounds\n",
    "    if rho[1] < 0.0\n",
    "        return Inf\n",
    "    end \n",
    "    if rho[2] >= 1.0\n",
    "        return Inf\n",
    "    end \n",
    "    if rho[2] < 0.0 \n",
    "        return Inf\n",
    "    end\n",
    "    \n",
    "    # call forward model \n",
    "    model, B = rv_forward(rho[1], rho[2], rho[3], time, rv, err);\n",
    "    \n",
    "    # Chi^2\n",
    "    return -loglike(rv, model, err);\n",
    "end "
   ]
  },
  {
   "cell_type": "markdown",
   "metadata": {},
   "source": [
    "### Optim `optimize`"
   ]
  },
  {
   "cell_type": "code",
<<<<<<< HEAD
   "execution_count": 13,
=======
   "execution_count": 202,
>>>>>>> c07b7b44e9d9fe15aa71ed00d4875e353c31c2dc
   "metadata": {
    "collapsed": true
   },
   "outputs": [],
   "source": [
    "using Optim"
   ]
  },
  {
   "cell_type": "code",
   "execution_count": 203,
   "metadata": {
    "collapsed": false
   },
   "outputs": [
    {
     "name": "stdout",
     "output_type": "stream",
     "text": [
      "  "
     ]
    },
    {
     "data": {
      "text/plain": [
       "Results of Optimization Algorithm\n",
       " * Algorithm: Nelder-Mead\n",
       " * Starting Point: [116.50350350350351,0.0, ...]\n",
       " * Minimum: [116.68194379961976,0.4007202317017826, ...]\n",
       " * Value of Function at Minimum: 273.987465\n",
       " * Iterations: 108\n",
       " * Convergence: true\n",
       "   * |x - x'| < NaN: false\n",
       "   * |f(x) - f(x')| / |f(x)| < 1.0e-08: true\n",
       "   * |g(x)| < NaN: false\n",
       "   * Exceeded Maximum Number of Iterations: false\n",
       " * Objective Function Calls: 197\n",
       " * Gradient Call: 0"
      ]
     },
     "execution_count": 203,
     "metadata": {},
     "output_type": "execute_result"
    }
   ],
   "source": [
    "p0 = [best_period, 0.0, mean(time)];\n",
    "@time optimum = optimize(rv_loglike, p0, autodiff=true)"
   ]
  },
  {
   "cell_type": "code",
   "execution_count": 204,
   "metadata": {
    "collapsed": false
   },
   "outputs": [
    {
     "data": {
      "text/plain": [
       "3-element Array{Float64,1}:\n",
       "   116.682  \n",
       "     0.40072\n",
       " 15058.2    "
      ]
     },
     "execution_count": 204,
     "metadata": {},
     "output_type": "execute_result"
    }
   ],
   "source": [
    "MLE = optimum.minimum"
   ]
  },
  {
   "cell_type": "markdown",
   "metadata": {},
   "source": [
    "### `curve_fit()`"
   ]
  },
  {
   "cell_type": "code",
   "execution_count": 205,
   "metadata": {
    "collapsed": true
   },
   "outputs": [],
   "source": [
    "numbers = readdlm(\"mystery_planet.txt\");"
   ]
  },
  {
   "cell_type": "code",
<<<<<<< HEAD
   "execution_count": 14,
=======
   "execution_count": 206,
>>>>>>> c07b7b44e9d9fe15aa71ed00d4875e353c31c2dc
   "metadata": {
    "collapsed": false
   },
   "outputs": [
    {
     "data": {
      "text/plain": [
       "rv_curve_forward (generic function with 2 methods)"
      ]
     },
<<<<<<< HEAD
     "execution_count": 14,
=======
     "execution_count": 206,
>>>>>>> c07b7b44e9d9fe15aa71ed00d4875e353c31c2dc
     "metadata": {},
     "output_type": "execute_result"
    }
   ],
   "source": [
    "function rv_curve_forward(t, p::Vector; kwargs...)\n",
    "        \n",
    "    # call forward model \n",
    "    model, B = rv_forward(p[1], p[2], p[3], t, rv, err);\n",
    "        \n",
    "    return reshape(model, length(model))\n",
    "    \n",
    "end"
   ]
  },
  {
   "cell_type": "code",
   "execution_count": 207,
   "metadata": {
    "collapsed": false
   },
   "outputs": [
    {
     "name": "stdout",
     "output_type": "stream",
     "text": [
      "0.024621 seconds (12.37 k allocations: 7.969 MB)\n",
      "  "
     ]
    }
   ],
   "source": [
    "p0 = [best_period, 0.0, mean(time)];\n",
    "@time fit3 = curve_fit(rv_curve_forward, time, rv, 1.0./err.^2, [best_period, 0.0, mean(time)]);"
   ]
  },
  {
   "cell_type": "code",
   "execution_count": 208,
   "metadata": {
    "collapsed": false
   },
   "outputs": [
    {
     "data": {
      "text/plain": [
       "3-element Array{Float64,1}:\n",
       "   116.682   \n",
       "     0.399921\n",
       " 15058.2     "
      ]
     },
     "execution_count": 208,
     "metadata": {},
     "output_type": "execute_result"
    }
   ],
   "source": [
    "fit3.param"
   ]
  },
  {
   "cell_type": "code",
<<<<<<< HEAD
   "execution_count": 39,
=======
   "execution_count": 213,
>>>>>>> c07b7b44e9d9fe15aa71ed00d4875e353c31c2dc
   "metadata": {
    "collapsed": false
   },
   "outputs": [
    {
     "data": {
      "text/plain": [
       "solve_rv (generic function with 1 method)"
      ]
     },
<<<<<<< HEAD
     "execution_count": 39,
=======
     "execution_count": 213,
>>>>>>> c07b7b44e9d9fe15aa71ed00d4875e353c31c2dc
     "metadata": {},
     "output_type": "execute_result"
    }
   ],
   "source": [
    "function solve_rv(data::Array{Float64, 2}; p0=[nothing, nothing, nothing], alg::AbstractString=\"cf\")\n",
    "    \"\"\" This function takes a 2D (Nx3) array of RV data, where N is the number of data points with columns\n",
    "    of time, RV, and error, and returns the best fitting period, eccentricity, and time of periastron.\n",
    "    \n",
    "    p0 = [period, ecc, tp]\n",
    "    \"\"\"\n",
    "    \n",
    "    # Unpack RV data (make global?)\n",
    "    time = data[:,1];\n",
    "    rv = data[:,2];\n",
    "    err = data[:,end];\n",
    "    \n",
    "    # Set initial parameters if not specified\n",
    "    p = [0.0, 0.0, 0.0]\n",
    "    if p0[1] == nothing\n",
    "        # Use Agol Periodogram for initial period guess\n",
    "        periods = collect(linspace(minimum(time[2:end] - time[1:end-1]), time[end]-time[1], 10000))\n",
    "        p[1] = agol_periodogram(numbers, periods)\n",
    "    else\n",
    "        p[1] = p0[1]\n",
    "    end \n",
    "    if p0[2] == nothing\n",
    "        # Use random ecc [0,1) for initial guess\n",
    "        p[2] = rand()\n",
    "    else\n",
    "        p[2] = p0[2]\n",
    "    end \n",
    "    if p0[3] == nothing\n",
    "        # Use random time drawn from observed grid\n",
    "        p[3] = rand(time)\n",
    "    else\n",
    "        p[3] = p0[3]\n",
    "    end\n",
    "    \n",
    "    # Run solver using either curve_fit() or optimize()\n",
    "    if alg == \"cf\"\n",
    "        # Use curve_fit() to fit \n",
    "        fit = curve_fit(rv_curve_forward, time, rv, 1.0./err.^2, p);\n",
    "        pbest = fit.param\n",
    "    elseif alg == \"opt\"\n",
    "        # Use optimize to fit\n",
    "        optimum = optimize(rv_loglike, p, autodiff=true)\n",
    "        pbest = optimum.minimum\n",
    "    else\n",
    "        print(\"Choose alg = 'cf' or 'opt'\")\n",
    "        return \n",
    "    end \n",
    "    \n",
    "    return pbest   \n",
    "end "
   ]
  },
  {
   "cell_type": "code",
<<<<<<< HEAD
   "execution_count": 46,
=======
   "execution_count": 214,
>>>>>>> c07b7b44e9d9fe15aa71ed00d4875e353c31c2dc
   "metadata": {
    "collapsed": false
   },
   "outputs": [],
   "source": [
    "numbers = readdlm(\"mystery_planet.txt\");\n",
    "time = numbers[:,1];\n",
    "rv = numbers[:,2];\n",
    "err = numbers[:,end];"
   ]
  },
  {
   "cell_type": "code",
<<<<<<< HEAD
   "execution_count": 47,
=======
   "execution_count": 217,
>>>>>>> c07b7b44e9d9fe15aa71ed00d4875e353c31c2dc
   "metadata": {
    "collapsed": false
   },
   "outputs": [
    {
     "name": "stdout",
     "output_type": "stream",
     "text": [
      "  "
     ]
    },
    {
     "data": {
      "text/plain": [
       "3-element Array{Float64,1}:\n",
       "   116.682   \n",
       "     0.399921\n",
       " 15058.2     "
      ]
     },
<<<<<<< HEAD
     "execution_count": 47,
=======
     "execution_count": 217,
>>>>>>> c07b7b44e9d9fe15aa71ed00d4875e353c31c2dc
     "metadata": {},
     "output_type": "execute_result"
    },
    {
     "name": "stdout",
     "output_type": "stream",
     "text": [
<<<<<<< HEAD
      "0.009168 seconds (4.38 k allocations: 3.176 MB)\n"
=======
      "0.008134 seconds (4.60 k allocations: 3.180 MB)\n"
>>>>>>> c07b7b44e9d9fe15aa71ed00d4875e353c31c2dc
     ]
    }
   ],
   "source": [
    "# testing curve fit\n",
    "@time pbest = solve_rv(numbers, p0 = [116.0, 0.0, mean(time)], alg=\"cf\")"
   ]
  },
  {
   "cell_type": "code",
<<<<<<< HEAD
   "execution_count": 48,
=======
   "execution_count": 218,
>>>>>>> c07b7b44e9d9fe15aa71ed00d4875e353c31c2dc
   "metadata": {
    "collapsed": false
   },
   "outputs": [
    {
     "name": "stdout",
     "output_type": "stream",
     "text": [
      "  "
     ]
    },
    {
     "data": {
      "text/plain": [
       "3-element Array{Float64,1}:\n",
       "   116.682  \n",
       "     0.40072\n",
       " 15058.2    "
      ]
     },
<<<<<<< HEAD
     "execution_count": 48,
=======
     "execution_count": 218,
>>>>>>> c07b7b44e9d9fe15aa71ed00d4875e353c31c2dc
     "metadata": {},
     "output_type": "execute_result"
    },
    {
     "name": "stdout",
     "output_type": "stream",
     "text": [
<<<<<<< HEAD
      "0.021687 seconds (10.35 k allocations: 7.984 MB)\n"
=======
      "0.024460 seconds (10.15 k allocations: 7.972 MB, 18.11% gc time)\n"
>>>>>>> c07b7b44e9d9fe15aa71ed00d4875e353c31c2dc
     ]
    }
   ],
   "source": [
    "# testing optimize\n",
    "@time pbest = solve_rv(numbers, p0 = [116.0, 0.0, mean(time)], alg=\"opt\")"
   ]
  },
  {
   "cell_type": "code",
   "execution_count": null,
   "metadata": {
    "collapsed": true
   },
   "outputs": [],
   "source": []
  }
 ],
 "metadata": {
  "kernelspec": {
   "display_name": "Julia 0.4.5",
   "language": "julia",
   "name": "julia-0.4"
  },
  "language_info": {
   "file_extension": ".jl",
   "mimetype": "application/julia",
   "name": "julia",
   "version": "0.4.5"
  }
 },
 "nbformat": 4,
 "nbformat_minor": 0
}
