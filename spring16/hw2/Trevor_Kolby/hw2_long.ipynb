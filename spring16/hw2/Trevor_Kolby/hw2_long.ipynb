{
 "cells": [
  {
   "cell_type": "code",
   "execution_count": 1,
   "metadata": {
    "collapsed": true
   },
   "outputs": [],
   "source": [
    "# Add relative path to ExoJulia\n",
    "push!(LOAD_PATH, \"../../../ExoJulia/\")\n",
    "\n",
    "# import\n",
    "using ExoJulia"
   ]
  },
  {
   "cell_type": "code",
   "execution_count": 2,
   "metadata": {
    "collapsed": true
   },
   "outputs": [],
   "source": [
    "using LsqFit\n",
    "using PyPlot"
   ]
  },
  {
   "cell_type": "code",
   "execution_count": 3,
   "metadata": {
    "collapsed": false
   },
   "outputs": [
    {
     "data": {
      "text/plain": [
       "M (generic function with 2 methods)"
      ]
     },
     "execution_count": 3,
     "metadata": {},
     "output_type": "execute_result"
    }
   ],
   "source": [
    "# From time to M\n",
    "M(t::Array,t_p::Float64,P::Float64) = (2*pi/P).*(t.-t_p)\n",
    "M(t::Float64,t_p::Float64,P::Float64) = (2*pi/P)*(t-t_p)"
   ]
  },
  {
   "cell_type": "code",
   "execution_count": 4,
   "metadata": {
    "collapsed": false
   },
   "outputs": [
    {
     "data": {
      "text/plain": [
       "EtoF (generic function with 2 methods)"
      ]
     },
     "execution_count": 4,
     "metadata": {},
     "output_type": "execute_result"
    }
   ],
   "source": [
    "#How to convert from E to f\n",
    "EtoF(E::Float64,ecc::Float64) = 2.*atan((((1.+ecc)/(1.-ecc))^(1./2.))*tan(E/2.))\n",
    "EtoF(E::Array,ecc::Float64) = 2.*atan((((1.+ecc)/(1.-ecc))^(1./2.)).*tan(E./2.))"
   ]
  },
  {
   "cell_type": "code",
   "execution_count": 5,
   "metadata": {
    "collapsed": false
   },
   "outputs": [
    {
     "data": {
      "text/plain": [
       "K (generic function with 1 method)"
      ]
     },
     "execution_count": 5,
     "metadata": {},
     "output_type": "execute_result"
    }
   ],
   "source": [
    "#Convert from linearized parameters to K\n",
    "K(h::Float64,c::Float64) = sqrt(h*h+c*c)"
   ]
  },
  {
   "cell_type": "code",
   "execution_count": 6,
   "metadata": {
    "collapsed": false
   },
   "outputs": [
    {
     "data": {
      "text/plain": [
       "pomega (generic function with 1 method)"
      ]
     },
     "execution_count": 6,
     "metadata": {},
     "output_type": "execute_result"
    }
   ],
   "source": [
    "#Convert from linearized parameters to pomega in degrees\n",
    "pomega(h::Float64,c::Float64) = atand(-c/h)"
   ]
  },
  {
   "cell_type": "code",
   "execution_count": 7,
   "metadata": {
    "collapsed": false
   },
   "outputs": [
    {
     "data": {
      "text/plain": [
       "gamma (generic function with 1 method)"
      ]
     },
     "execution_count": 7,
     "metadata": {},
     "output_type": "execute_result"
    }
   ],
   "source": [
    "#Convert from linearized parameters to gamma\n",
    "gamma(v0::Float64,K::Float64,ecc::Float64,pomega::Float64) = v0-K*ecc*cosd(pomega)"
   ]
  },
  {
   "cell_type": "code",
   "execution_count": 8,
   "metadata": {
    "collapsed": false
   },
   "outputs": [
    {
     "data": {
      "text/plain": [
       "P_guesser (generic function with 1 method)"
      ]
     },
     "execution_count": 8,
     "metadata": {},
     "output_type": "execute_result"
    }
   ],
   "source": [
    "#For periods between the average distance between data points and the time range of the data,\n",
    "#sorts RVs by phase, and looks for the period that minimizes the sum of consecutive differences\n",
    "#squared\n",
    "function P_guesser(x_data::Array,y_data::Array)\n",
    "    \n",
    "    #Make an array from the minimum measurable period to the maximum measurable period, in steps\n",
    "    #of half of a day\n",
    "    P_array::Array{Float64} = collect(mean(diff(x_data)):0.5:maximum(x_data)-minimum(y_data))\n",
    "    \n",
    "    #Return the sum of squares of differences of consecutive RVs binned by period for each period\n",
    "    sq_array::Array{Float64} = [sum(diff(y_data[sortperm(mod(x_data,P))]).^2.0) for P=P_array]\n",
    "    \n",
    "    #Return the period that results in the minimum of sq_array\n",
    "    return P_array[findmin(sq_array)[2]]\n",
    "    \n",
    "end"
   ]
  },
  {
   "cell_type": "code",
   "execution_count": 9,
   "metadata": {
    "collapsed": false
   },
   "outputs": [
    {
     "data": {
      "text/plain": [
       "kepler_solve (generic function with 1 method)"
      ]
     },
     "execution_count": 9,
     "metadata": {},
     "output_type": "execute_result"
    }
   ],
   "source": [
    "#Slightly change kepler_solve! into a function that's compatible with arrays\n",
    "function kepler_solve(Ms::Array{Float64},ecc::Float64)\n",
    "    results = Float64[]\n",
    "    \n",
    "    #For each M in the input, do kepler_solve!\n",
    "    for em in Ms\n",
    "        push!(results,ExoJulia.Orbit.kepler_solve(em, ecc))\n",
    "    end\n",
    "    \n",
    "    return results\n",
    "    \n",
    "end"
   ]
  },
  {
   "cell_type": "code",
   "execution_count": 10,
   "metadata": {
    "collapsed": false
   },
   "outputs": [
    {
     "data": {
      "text/plain": [
       "hcv0 (generic function with 1 method)"
      ]
     },
     "execution_count": 10,
     "metadata": {},
     "output_type": "execute_result"
    }
   ],
   "source": [
    "#A function that, when given a series of f's, RV data and errors (all arrays of the same size)\n",
    "#returns the linearized parameters h, c, and v0\n",
    "#Follows prescription of Wright and Howard (2009)\n",
    "function hcv0(f::Array{Float64},y_data::Array{Float64},y_error::Array{Float64})\n",
    "    #Diagonal matrix of the inverse errors\n",
    "    W = diagm(1.0./(y_error.^2.0))\n",
    "    \n",
    "    #[cos(f[1]) cos(f[2]) ... ;sin(f[1]) sin(f[2]) ... ; 1.0 1.0 ...]\n",
    "    F = hcat(cos(f),sin(f),[1.0 for x in f])'\n",
    "    \n",
    "    #Error matrix\n",
    "    epsilon = inv(F*W*F')\n",
    "    \n",
    "    #Return a (row) array of h, c, v0\n",
    "    return y_data'*W*F'*epsilon\n",
    "    \n",
    "end"
   ]
  },
  {
   "cell_type": "code",
   "execution_count": 11,
   "metadata": {
    "collapsed": false
   },
   "outputs": [
    {
     "data": {
      "text/plain": [
       "get_params (generic function with 1 method)"
      ]
     },
     "execution_count": 11,
     "metadata": {},
     "output_type": "execute_result"
    }
   ],
   "source": [
    "#Now we'll need a function to take a curve_fit object and convert to necessary parameters\n",
    "function get_params(fit_obj::LsqFit.LsqFitResult{Float64},x_data::Array,y_data::Array,y_err::Array) \n",
    "    #returns e,t_p,P,K,pomega,gamma\n",
    "    params::Array = fit_obj.param\n",
    "    Es::Array = kepler_solve(M(x_data,params[2],params[3]), params[1])\n",
    "    f::Array = EtoF(Es,params[1])\n",
    "    h,c,v0 = hcv0(f,y_data,y_err)\n",
    "    return [params[1],params[2],params[3],K(h,c),pomega(h,c),gamma(v0,K(h,c),params[1], pomega(h,c))]\n",
    "end"
   ]
  },
  {
   "cell_type": "code",
   "execution_count": 12,
   "metadata": {
    "collapsed": false
   },
   "outputs": [
    {
     "data": {
      "text/plain": [
       "fit_RV (generic function with 1 method)"
      ]
     },
     "execution_count": 12,
     "metadata": {},
     "output_type": "execute_result"
    }
   ],
   "source": [
    "#Because we need to include hcv0 as a function of the RV data and errors, we'll need to nest our \n",
    "#fitting function inside of another function\n",
    "function fit_RV(x_data::Array{Float64},y_data::Array{Float64},y_err::Array{Float64})\n",
    "      \n",
    "    #Define the radial velocity function\n",
    "    function v_rad(t::Array{Float64},params::Array{Float64}) #params are e,t_p,P\n",
    "            \n",
    "            #Check to see if the eccentricity makes sense\n",
    "            if 0 <= params[1] < 1\n",
    "                \n",
    "                #Convert the times into eccentric anomalies, then into true anomalies\n",
    "                Es::Array{Float64} = kepler_solve(M(t,params[2],params[3]),params[1])\n",
    "                f::Array{Float64} = EtoF(Es,params[1])\n",
    "                \n",
    "                #Get h,c,v0. Note: these parameters are a function of f, which is a function of\n",
    "                #e, t_p and P\n",
    "                h,c,v0 = hcv0(f,y_data,y_err)\n",
    "                \n",
    "                #Return the radial velocities\n",
    "                return h.*cos(f)+c*sin(f).+v0\n",
    "                \n",
    "            else\n",
    "                return Inf\n",
    "            end\n",
    "    end\n",
    "        \n",
    "    #Now let's fit the v_rad function to y_data, weights are 1/err^2, initial guess is a small eccentricity,\n",
    "    #the first time point, and the period returned by P_guesser. Then return our parameters\n",
    "    return get_params(curve_fit(v_rad,x_data,y_data,(1.0./y_err.^2.0),[0.1,x_data[1],P_guesser(x_data,y_data)]),x_data,y_data,y_err)\n",
    "        \n",
    "end\n"
   ]
  },
  {
   "cell_type": "code",
   "execution_count": 13,
   "metadata": {
    "collapsed": false
   },
   "outputs": [
    {
     "data": {
      "text/plain": [
       "get_v_rad_fit (generic function with 1 method)"
      ]
     },
     "execution_count": 13,
     "metadata": {},
     "output_type": "execute_result"
    }
   ],
   "source": [
    "#A function that, given parameters generated by fit_RV, generates v_rad at any given time\n",
    "function get_v_rad_fit(times::Array,params::Array) \n",
    "        \n",
    "    #Convert the times into eccentric anomalies, then into true anomalies\n",
    "    Es::Array{Float64} = kepler_solve(M(times,params[2],params[3]),params[1])\n",
    "    f::Array{Float64} = EtoF(Es,params[1])\n",
    "                \n",
    "    #Get h,c,v0 from orbital parameters\n",
    "    h = params[4]*cosd(params[5])\n",
    "    c = -params[4]*sind(params[5])\n",
    "    v0 = params[6]+params[4]*params[1]*cosd(params[5])\n",
    "                \n",
    "    #Return the radial velocities\n",
    "    return h.*cos(f)+c*sin(f).+v0\n",
    "    \n",
    "end"
   ]
  },
  {
   "cell_type": "code",
   "execution_count": 14,
   "metadata": {
    "collapsed": false
   },
   "outputs": [],
   "source": [
    "#Read in data, separate into arrays\n",
    "data = readdlm(\"mystery_planet.txt\",Float64) \n",
    "times = data[:,1]\n",
    "RVs = data[:,2]\n",
    "RV_errs = data[:,3] ;"
   ]
  },
  {
   "cell_type": "code",
   "execution_count": 16,
   "metadata": {
    "collapsed": false
   },
   "outputs": [
    {
     "name": "stdout",
     "output_type": "stream",
     "text": [
      "  0.217407 seconds (346.02 k allocations: 96.684 MB, 6.77% gc time)\n"
     ]
    }
   ],
   "source": [
    "@time result = fit_RV(times,RVs,RV_errs) ;"
   ]
  },
  {
   "cell_type": "code",
   "execution_count": 17,
   "metadata": {
    "collapsed": false
   },
   "outputs": [
    {
     "name": "stdout",
     "output_type": "stream",
     "text": [
      "e = 0.40016612320726774\n",
      "t_p = 13891.356528538307\n",
      "P = 116.68569506349166\n",
      "K = 316.1090092004665\n",
      "pomega = -0.7766860911621005\n",
      "gamma = -51.916669565780765\n"
     ]
    }
   ],
   "source": [
    "param_names = [\"e\",\"t_p\",\"P\",\"K\",\"pomega\",\"gamma\"]\n",
    "for (param,res) in zip(param_names,result)\n",
    "    println(\"$param = $res\")\n",
    "end"
   ]
  },
  {
   "cell_type": "code",
   "execution_count": 18,
   "metadata": {
    "collapsed": false
   },
   "outputs": [
    {
     "data": {
      "text/plain": [
       "plot_RV (generic function with 4 methods)"
      ]
     },
     "execution_count": 18,
     "metadata": {},
     "output_type": "execute_result"
    }
   ],
   "source": [
    "function plot_RV(times::Array{Float64},rvs::Array{Float64},period::Float64,errors::Array{Float64},lab::ASCIIString;col=\"blue\")\n",
    "    phase = mod(times, period)/period;\n",
    "    errorbar(phase, rvs, yerr = errors,color=col,fmt=\".\",label=lab)\n",
    "    xlabel(\"Phase\")\n",
    "    ylabel(L\"$v_{rad}$ [$m/s$]\")\n",
    "end\n",
    "\n",
    "function plot_RV(times::Array{Float64},rvs::Array{Float64},period::Float64,errors::Array{Float64};col=\"blue\")\n",
    "    phase = mod(times, period)/period;\n",
    "    errorbar(phase, rvs, yerr = errors,color=col,fmt=\".\",)\n",
    "    xlabel(\"Phase\")\n",
    "    ylabel(L\"$v_{rad}$ [$m/s$]\")\n",
    "end\n",
    "\n",
    "function plot_RV(times::Array{Float64},rvs::Array{Float64},period::Float64,lab::ASCIIString;col=\"blue\")\n",
    "    phase = mod(times, period)/period;\n",
    "    scatter(phase, rvs,marker=\"x\",color=col,label=lab)\n",
    "    xlabel(\"Phase\")\n",
    "    ylabel(L\"$v_{rad}$ [$m/s$]\")\n",
    "end\n",
    "\n",
    "function plot_RV(times::Array{Float64},rvs::Array{Float64},period::Float64;col=\"blue\")\n",
    "    phase = mod(times, period)/period;\n",
    "    scatter(phase,rvs,marker=\"x\",color=col)\n",
    "    xlabel(\"Phase\")\n",
    "    ylabel(L\"$v_{rad}$ [$m/s$]\")\n",
    "end"
   ]
  },
  {
   "cell_type": "code",
   "execution_count": 19,
   "metadata": {
    "collapsed": false
   },
   "outputs": [
    {
     "data": {
      "image/png": "[encoded data removed]",
      "text/plain": [
       "PyPlot.Figure(PyObject <matplotlib.figure.Figure object at 0x312407790>)"
      ]
     },
     "metadata": {},
     "output_type": "display_data"
    },
    {
     "data": {
      "text/plain": [
       "PyObject <matplotlib.legend.Legend object at 0x319432110>"
      ]
     },
     "execution_count": 19,
     "metadata": {},
     "output_type": "execute_result"
    }
   ],
   "source": [
    "plot_RV(times,RVs,116.68569506349166,RV_errs,\"Data\",col=\"blue\")\n",
    "fitted_rv = get_v_rad_fit(times,result)\n",
    "plot_RV(times,fitted_rv,116.68569506349166,\"Fit\",col=\"red\")\n",
    "legend(loc=0)"
   ]
  },
  {
   "cell_type": "code",
   "execution_count": 22,
   "metadata": {
    "collapsed": false
   },
   "outputs": [
    {
     "data": {
      "text/plain": [
       "eff_func (generic function with 1 method)"
      ]
     },
     "execution_count": 22,
     "metadata": {},
     "output_type": "execute_result"
    }
   ],
   "source": [
    "function eff_func(t,t0::Float64,r0::Float64,sma::Float64,ecc::Float64,t_p::Float64,P::Float64)\n",
    "    Ms = M(t,t_p,P)\n",
    "    M0 = M(t0,t_p,P)\n",
    "    E0 = kepler_solve(M0,ecc)\n",
    "    E = kepler_solve(Ms,ecc)\n",
    "    return (sma/r0).*(cos(E.-E0).+1)\n",
    "end"
   ]
  },
  {
   "cell_type": "code",
   "execution_count": 23,
   "metadata": {
    "collapsed": false
   },
   "outputs": [
    {
     "data": {
      "text/plain": [
       "gee_func (generic function with 1 method)"
      ]
     },
     "execution_count": 23,
     "metadata": {},
     "output_type": "execute_result"
    }
   ],
   "source": [
    "function gee_func(t,t0::Float64,r0::Float64,sma::Float64,ecc::Float64,t_p::Float64,P::Float64)\n",
    "    Ms = M(t,t_p,P)\n",
    "    M0 = M(t0,t_p,P)\n",
    "    E0 = kepler_solve(M0,ecc)\n",
    "    E = kepler_solve(Ms,ecc)\n",
    "    return (t.-t0).+(P/(2.0*pi)).*(sin(E.-E0)-(E.-E0))\n",
    "end"
   ]
  },
  {
   "cell_type": "code",
   "execution_count": null,
   "metadata": {
    "collapsed": true
   },
   "outputs": [],
   "source": []
  }
 ],
 "metadata": {
  "kernelspec": {
   "display_name": "Julia 0.4.5",
   "language": "julia",
   "name": "julia-0.4"
  },
  "language_info": {
   "file_extension": ".jl",
   "mimetype": "application/julia",
   "name": "julia",
   "version": "0.4.5"
  }
 },
 "nbformat": 4,
 "nbformat_minor": 0
}
