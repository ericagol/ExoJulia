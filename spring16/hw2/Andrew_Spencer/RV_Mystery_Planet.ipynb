{
 "cells": [
  {
   "cell_type": "code",
   "execution_count": 18,
   "metadata": {
    "collapsed": false
   },
   "outputs": [
    {
     "name": "stderr",
     "output_type": "stream",
     "text": [
      "INFO: Precompiling module Optim...\n",
      "INFO: Precompiling module Distributions...\n"
     ]
    }
   ],
   "source": [
    "using LsqFit"
   ]
  },
  {
   "cell_type": "code",
   "execution_count": 30,
   "metadata": {
    "collapsed": false
   },
   "outputs": [
    {
     "data": {
      "text/plain": [
       "v_r (generic function with 1 method)"
      ]
     },
     "execution_count": 30,
     "metadata": {},
     "output_type": "execute_result"
    }
   ],
   "source": [
    "#Functions\n",
    "include(\"functions.jl\")\n",
    "\n",
    "function f(a,r0,E,E0)\n",
    "    a/r0*(cos(E-E0) + 1)\n",
    "end\n",
    "\n",
    "function v_r(k,omega,ecc,gam,f)\n",
    "    h = k*cos(omega)\n",
    "    c1 = -k*sin(omega)\n",
    "    v0 = gam + K*ecc*cos(omega)\n",
    "    h*cos(f) + c1*sin(f) + v0\n",
    "end"
   ]
  },
  {
   "cell_type": "code",
   "execution_count": 31,
   "metadata": {
    "collapsed": false
   },
   "outputs": [
    {
     "data": {
      "text/plain": [
       "59-element Array{Float64,1}:\n",
       " 1.0\n",
       " 1.0\n",
       " 1.0\n",
       " 1.3\n",
       " 1.3\n",
       " 1.2\n",
       " 1.1\n",
       " 1.1\n",
       " 1.1\n",
       " 1.2\n",
       " 1.2\n",
       " 1.1\n",
       " 1.2\n",
       " ⋮  \n",
       " 1.0\n",
       " 1.2\n",
       " 1.3\n",
       " 1.3\n",
       " 1.3\n",
       " 1.2\n",
       " 1.3\n",
       " 1.4\n",
       " 1.5\n",
       " 1.2\n",
       " 1.1\n",
       " 1.4"
      ]
     },
     "execution_count": 31,
     "metadata": {},
     "output_type": "execute_result"
    }
   ],
   "source": [
    "#Data import\n",
    "pldata = readdlm(\"mystery_planet.txt\")\n",
    "time_data = pldata[:,1]\n",
    "RV_data = pldata[:,2]\n",
    "err_data = pldata[:,3]"
   ]
  },
  {
   "cell_type": "code",
   "execution_count": 32,
   "metadata": {
    "collapsed": false
   },
   "outputs": [
    {
     "ename": "LoadError",
     "evalue": "LoadError: MethodError: `*` has no method matching *(::Array{Float64,1}, ::Array{Float64,1})\nClosest candidates are:\n  *(::Any, ::Any, !Matched::Any, !Matched::Any...)\n  *{T<:Union{Complex{Float32},Complex{Float64},Float32,Float64},S}(!Matched::Union{DenseArray{T<:Union{Complex{Float32},Complex{Float64},Float32,Float64},2},SubArray{T<:Union{Complex{Float32},Complex{Float64},Float32,Float64},2,A<:DenseArray{T,N},I<:Tuple{Vararg{Union{Colon,Int64,Range{Int64}}}},LD}}, ::Union{DenseArray{S,1},SubArray{S,1,A<:DenseArray{T,N},I<:Tuple{Vararg{Union{Colon,Int64,Range{Int64}}}},LD}})\n  *{TA,TB}(!Matched::Base.LinAlg.AbstractTriangular{TA,S<:AbstractArray{T,2}}, ::Union{DenseArray{TB,1},DenseArray{TB,2},SubArray{TB,1,A<:DenseArray{T,N},I<:Tuple{Vararg{Union{Colon,Int64,Range{Int64}}}},LD},SubArray{TB,2,A<:DenseArray{T,N},I<:Tuple{Vararg{Union{Colon,Int64,Range{Int64}}}},LD}})\n  ...\nwhile loading In[32], in expression starting on line 1",
     "output_type": "error",
     "traceback": [
      "LoadError: MethodError: `*` has no method matching *(::Array{Float64,1}, ::Array{Float64,1})\nClosest candidates are:\n  *(::Any, ::Any, !Matched::Any, !Matched::Any...)\n  *{T<:Union{Complex{Float32},Complex{Float64},Float32,Float64},S}(!Matched::Union{DenseArray{T<:Union{Complex{Float32},Complex{Float64},Float32,Float64},2},SubArray{T<:Union{Complex{Float32},Complex{Float64},Float32,Float64},2,A<:DenseArray{T,N},I<:Tuple{Vararg{Union{Colon,Int64,Range{Int64}}}},LD}}, ::Union{DenseArray{S,1},SubArray{S,1,A<:DenseArray{T,N},I<:Tuple{Vararg{Union{Colon,Int64,Range{Int64}}}},LD}})\n  *{TA,TB}(!Matched::Base.LinAlg.AbstractTriangular{TA,S<:AbstractArray{T,2}}, ::Union{DenseArray{TB,1},DenseArray{TB,2},SubArray{TB,1,A<:DenseArray{T,N},I<:Tuple{Vararg{Union{Colon,Int64,Range{Int64}}}},LD},SubArray{TB,2,A<:DenseArray{T,N},I<:Tuple{Vararg{Union{Colon,Int64,Range{Int64}}}},LD}})\n  ...\nwhile loading In[32], in expression starting on line 1",
      "",
      " in power_by_squaring at intfuncs.jl:78",
      " in ^ at intfuncs.jl:108"
     ]
    }
   ],
   "source": [
    "curve_fit(v_r,time_data,RV_data,1/err_data^2,[100.,0.,0.,0.,0.])"
   ]
  },
  {
   "cell_type": "code",
   "execution_count": 33,
   "metadata": {
    "collapsed": false
   },
   "outputs": [
    {
     "data": {
      "text/plain": [
       "1.719148719463455"
      ]
     },
     "execution_count": 33,
     "metadata": {},
     "output_type": "execute_result"
    }
   ],
   "source": [
    "#Test interator\n",
    "M = pi/2.\n",
    "ecc = 0.15\n",
    "E = M + 0.85*ecc*sign(sin(M))\n",
    "eps = 1e-15\n",
    "newt_kepler(ecc,E,M,eps)"
   ]
  }
 ],
 "metadata": {
  "kernelspec": {
   "display_name": "Julia 0.4.5",
   "language": "julia",
   "name": "julia-0.4"
  },
  "language_info": {
   "file_extension": ".jl",
   "mimetype": "application/julia",
   "name": "julia",
   "version": "0.4.5"
  }
 },
 "nbformat": 4,
 "nbformat_minor": 0
}
