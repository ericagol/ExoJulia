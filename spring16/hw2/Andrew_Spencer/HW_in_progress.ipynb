{
 "cells": [
  {
   "cell_type": "code",
   "execution_count": 70,
   "metadata": {
    "collapsed": false
   },
   "outputs": [
    {
     "data": {
      "text/plain": [
       "6.67e-8"
      ]
     },
     "execution_count": 70,
     "metadata": {},
     "output_type": "execute_result"
    }
   ],
   "source": [
    "using LsqFit\n",
    "using PyPlot\n",
    "G = 6.67e-8"
   ]
  },
  {
   "cell_type": "code",
   "execution_count": 75,
   "metadata": {
    "collapsed": false
   },
   "outputs": [
    {
     "ename": "LoadError",
     "evalue": "LoadError: syntax: unexpected end\nwhile loading In[75], in expression starting on line 97",
     "output_type": "error",
     "traceback": [
      "LoadError: syntax: unexpected end\nwhile loading In[75], in expression starting on line 97",
      ""
     ]
    }
   ],
   "source": [
    "# QUICKSORT FOR A traditional row-based array with multiple columns\n",
    "function quicksort2D!(a::Array)#,left,right)\n",
    "    \n",
    "    lena = length(a[:,1])\n",
    "#    a0 = zeros(Float64,1,lena)\n",
    "    \n",
    "    if(lena < 2)\n",
    "        return# a\n",
    "    end\n",
    "    \n",
    "    if(lena == 2)\n",
    "        if(a[1,1] > a[2,1])\n",
    "            a[1,:],a[2,:] = a[2,:],a[1,:]\n",
    "        end\n",
    "        return# a\n",
    "    end\n",
    "         \n",
    "    if(lena > 2)\n",
    "        pivot = a[div(lena,2)]\n",
    "        i = 1\n",
    "        j = lena\n",
    "\n",
    "        while(i <= j)\n",
    "            \n",
    "            while(a[i,1] < pivot)\n",
    "                i = i + 1\n",
    "            end\n",
    "            \n",
    "            while(a[j,1] > pivot)\n",
    "                j = j - 1\n",
    "            end\n",
    "\n",
    "            if(i <= j)\n",
    "                a[i,:], a[j,:] = a[j,:], a[i,:]\n",
    "                i = i + 1\n",
    "                j = j - 1\n",
    "            end\n",
    "        end\n",
    "\n",
    "        #a[1:i,:] = \n",
    "        quicksort2D!(a[1:i,:])\n",
    "        #a[i:end,:] = \n",
    "        quicksort2D!(a[i:end,:]) \n",
    "\n",
    "    end\n",
    "   \n",
    "    return# a\n",
    "    \n",
    "end\n",
    "\n",
    "#From Jake & Dave\n",
    "function fastsortrows(B::AbstractMatrix,cols::Array; kws...)\n",
    "  \"\"\"\n",
    "  Solution by: abhishekmalali (gihub)\n",
    "  See: https://github.com/JuliaLang/julia/issues/9832\n",
    "  \"\"\"\n",
    "       for i = 1:length(cols)\n",
    "        if i == 1\n",
    "            p =sortperm(B[:,cols[i]]; kws...);\n",
    "            B = B[p,:];\n",
    "        else\n",
    "            i0_old = 0;\n",
    "            i1_old = 0;\n",
    "            i0_new = 0;\n",
    "            i1_new = 0;\n",
    "            for j = 1:size(B,1)-1\n",
    "                if B[j,cols[1:i-1]] == B[j+1,cols[1:i-1]] && i0_old == i0_new\n",
    "                    i0_new = j;\n",
    "                elseif B[j,cols[1:i-1]] != B[j+1,cols[1:i-1]] && i0_old != i0_new && i1_new == i1_old\n",
    "                    i1_new = j;\n",
    "                elseif i0_old != i0_new && j == size(B,1)-1\n",
    "                    i1_new = j+1;\n",
    "                end\n",
    "                if i0_new != i0_old && i1_new != i1_old\n",
    "                    p = sortperm(B[i0_new:i1_new,cols[i]]; kws...);\n",
    "                    B[i0_new:i1_new,:] = B[i0_new:i1_new,:][p,:];\n",
    "                    i0_old = i0_new;\n",
    "                    i1_old = i1_new;\n",
    "                end\n",
    "            end\n",
    "            end\n",
    "    end\n",
    "    return B\n",
    "end"
   ]
  },
  {
   "cell_type": "code",
   "execution_count": 9,
   "metadata": {
    "collapsed": false
   },
   "outputs": [
    {
     "name": "stdout",
     "output_type": "stream",
     "text": [
      "  6.143442 seconds (94.21 M allocations: 1.493 GB, 4.30% gc time)\n"
     ]
    },
    {
     "data": {
      "text/plain": [
       "1000000x2 Array{Float64,2}:\n",
       " 3.61645e-6  0.493348 \n",
       " 3.84436e-6  0.446206 \n",
       " 5.40444e-6  0.0268972\n",
       " 5.84407e-6  0.890817 \n",
       " 5.85303e-6  0.215715 \n",
       " 9.04728e-6  0.454795 \n",
       " 9.29694e-6  0.882097 \n",
       " 9.31918e-6  0.339162 \n",
       " 9.63941e-6  0.690753 \n",
       " 9.78651e-6  0.662416 \n",
       " 1.20838e-5  0.0127466\n",
       " 1.38276e-5  0.642373 \n",
       " 1.4402e-5   0.743133 \n",
       " ⋮                    \n",
       " 0.999981    0.562876 \n",
       " 0.999982    0.404426 \n",
       " 0.999983    0.932705 \n",
       " 0.999988    0.282066 \n",
       " 0.999989    0.409268 \n",
       " 0.999989    0.642049 \n",
       " 0.999991    0.504129 \n",
       " 0.999991    0.432761 \n",
       " 0.999992    0.73409  \n",
       " 0.999992    0.888738 \n",
       " 0.999994    0.555864 \n",
       " 0.999996    0.883459 "
      ]
     },
     "execution_count": 9,
     "metadata": {},
     "output_type": "execute_result"
    }
   ],
   "source": [
    "#@time quicksort2D(a)\n",
    "a = rand(Float64,1000000,2)\n",
    "@time sortrows(a, by=x->x[1])"
   ]
  },
  {
   "cell_type": "code",
   "execution_count": 10,
   "metadata": {
    "collapsed": false
   },
   "outputs": [
    {
     "name": "stdout",
     "output_type": "stream",
     "text": [
      "  2.067496 seconds (45.42 M allocations: 2.372 GB, 19.87% gc time)\n"
     ]
    }
   ],
   "source": [
    "b = rand(Float64,1000000,2)\n",
    "@time quicksort2D!(b)"
   ]
  },
  {
   "cell_type": "code",
   "execution_count": 11,
   "metadata": {
    "collapsed": false
   },
   "outputs": [
    {
     "name": "stdout",
     "output_type": "stream",
     "text": [
      "  0.228218 seconds (77.72 k allocations: 33.757 MB, 1.01% gc time)\n"
     ]
    },
    {
     "data": {
      "text/plain": [
       "1000000x2 Array{Float64,2}:\n",
       " 9.97089e-7  0.162249 \n",
       " 2.99426e-6  0.404899 \n",
       " 3.83035e-6  0.998901 \n",
       " 3.86674e-6  0.156196 \n",
       " 5.25898e-6  0.641918 \n",
       " 8.80292e-6  0.563281 \n",
       " 9.39195e-6  0.408529 \n",
       " 1.01867e-5  0.16398  \n",
       " 1.34837e-5  0.35036  \n",
       " 1.47133e-5  0.412004 \n",
       " 1.52293e-5  0.243719 \n",
       " 1.62139e-5  0.738751 \n",
       " 1.63745e-5  0.444888 \n",
       " ⋮                    \n",
       " 0.999989    0.221199 \n",
       " 0.99999     0.0298826\n",
       " 0.999991    0.372691 \n",
       " 0.999991    0.0545946\n",
       " 0.999991    0.720291 \n",
       " 0.999991    0.0435137\n",
       " 0.999991    0.637878 \n",
       " 0.999995    0.35117  \n",
       " 0.999996    0.196257 \n",
       " 0.999997    0.622988 \n",
       " 0.999998    0.103294 \n",
       " 1.0         0.956116 "
      ]
     },
     "execution_count": 11,
     "metadata": {},
     "output_type": "execute_result"
    }
   ],
   "source": [
    "c = rand(Float64,1000000,2)\n",
    "@time fastsortrows(c,[1])"
   ]
  },
  {
   "cell_type": "code",
   "execution_count": 12,
   "metadata": {
    "collapsed": false
   },
   "outputs": [
    {
     "data": {
      "text/plain": [
       "59-element Array{Float64,1}:\n",
       " 1.0\n",
       " 1.0\n",
       " 1.0\n",
       " 1.3\n",
       " 1.3\n",
       " 1.2\n",
       " 1.1\n",
       " 1.1\n",
       " 1.1\n",
       " 1.2\n",
       " 1.2\n",
       " 1.1\n",
       " 1.2\n",
       " ⋮  \n",
       " 1.0\n",
       " 1.2\n",
       " 1.3\n",
       " 1.3\n",
       " 1.3\n",
       " 1.2\n",
       " 1.3\n",
       " 1.4\n",
       " 1.5\n",
       " 1.2\n",
       " 1.1\n",
       " 1.4"
      ]
     },
     "execution_count": 12,
     "metadata": {},
     "output_type": "execute_result"
    }
   ],
   "source": [
    "#Data import\n",
    "pldata = readdlm(\"mystery_planet.txt\")\n",
    "time_data = pldata[:,1]\n",
    "RV_data = pldata[:,2]\n",
    "err_data = pldata[:,3]"
   ]
  },
  {
   "cell_type": "code",
   "execution_count": null,
   "metadata": {
    "collapsed": true
   },
   "outputs": [],
   "source": []
  },
  {
   "cell_type": "code",
   "execution_count": 13,
   "metadata": {
    "collapsed": false
   },
   "outputs": [
    {
     "data": {
      "text/plain": [
       "59-element Array{Float64,1}:\n",
       " 3.82196\n",
       " 3.82264\n",
       " 3.82336\n",
       " 5.16632\n",
       " 5.16702\n",
       " 5.16775\n",
       " 0.12242\n",
       " 0.12308\n",
       " 0.12372\n",
       " 1.11653\n",
       " 1.11724\n",
       " 1.11797\n",
       " 9.10185\n",
       " ⋮      \n",
       " 6.7334 \n",
       " 7.73062\n",
       " 1.94048\n",
       " 2.72022\n",
       " 2.7208 \n",
       " 2.72139\n",
       " 3.02461\n",
       " 3.02698\n",
       " 3.03026\n",
       " 5.72624\n",
       " 8.73474\n",
       " 5.1871 "
      ]
     },
     "execution_count": 13,
     "metadata": {},
     "output_type": "execute_result"
    }
   ],
   "source": [
    "#Sort by phase, given period\n",
    "phase = Array(Real,length(time_data))\n",
    "period = 10.\n",
    "phase = mod(time_data,period)"
   ]
  },
  {
   "cell_type": "code",
   "execution_count": 14,
   "metadata": {
    "collapsed": false
   },
   "outputs": [
    {
     "name": "stdout",
     "output_type": "stream",
     "text": [
      "  0.001097 seconds (1.50 k allocations: 30.650 KB)\n"
     ]
    },
    {
     "data": {
      "text/plain": [
       "59x2 Array{Float64,2}:\n",
       " 0.12242   321.0\n",
       " 0.12308   318.4\n",
       " 0.12372   319.2\n",
       " 1.11653   290.6\n",
       " 1.11724   291.0\n",
       " 1.11797   291.7\n",
       " 1.16959    95.0\n",
       " 1.80566   -30.5\n",
       " 1.84867  -237.2\n",
       " 1.94048  -113.1\n",
       " 2.72022  -177.0\n",
       " 2.7208   -170.0\n",
       " 2.72139  -172.8\n",
       " ⋮              \n",
       " 7.00429    68.3\n",
       " 7.16184    12.3\n",
       " 7.18024  -180.8\n",
       " 7.73062  -237.0\n",
       " 7.92941  -221.9\n",
       " 8.10796  -213.6\n",
       " 8.73474  -142.7\n",
       " 8.8737   -227.3\n",
       " 9.10185    90.7\n",
       " 9.1025     91.1\n",
       " 9.10312    87.7\n",
       " 9.16606    46.7"
      ]
     },
     "execution_count": 14,
     "metadata": {},
     "output_type": "execute_result"
    }
   ],
   "source": [
    "phase_data_arr1 = [phase RV_data] #combine arrays\n",
    "@time phase_sorted1 = sortrows(phase_data_arr1, by=x->x[1]) #sort by phase\n",
    "#phase_sorted2 = sort(phase_data_arr,1) #sort by phase"
   ]
  },
  {
   "cell_type": "code",
   "execution_count": 15,
   "metadata": {
    "collapsed": false
   },
   "outputs": [
    {
     "name": "stdout",
     "output_type": "stream",
     "text": [
      "  0.001223 seconds (1.50 k allocations: 30.650 KB)\n"
     ]
    },
    {
     "data": {
      "text/plain": [
       "59x2 Array{Float64,2}:\n",
       " 0.12242   321.0\n",
       " 0.12308   318.4\n",
       " 0.12372   319.2\n",
       " 1.11653   290.6\n",
       " 1.11724   291.0\n",
       " 1.11797   291.7\n",
       " 1.16959    95.0\n",
       " 1.80566   -30.5\n",
       " 1.84867  -237.2\n",
       " 1.94048  -113.1\n",
       " 2.72022  -177.0\n",
       " 2.7208   -170.0\n",
       " 2.72139  -172.8\n",
       " ⋮              \n",
       " 7.00429    68.3\n",
       " 7.16184    12.3\n",
       " 7.18024  -180.8\n",
       " 7.73062  -237.0\n",
       " 7.92941  -221.9\n",
       " 8.10796  -213.6\n",
       " 8.73474  -142.7\n",
       " 8.8737   -227.3\n",
       " 9.10185    90.7\n",
       " 9.1025     91.1\n",
       " 9.10312    87.7\n",
       " 9.16606    46.7"
      ]
     },
     "execution_count": 15,
     "metadata": {},
     "output_type": "execute_result"
    }
   ],
   "source": [
    "phase_data_arr2 = [phase RV_data] #combine arrays\n",
    "@time phase_sorted2 = sortrows(phase_data_arr2, by=x->x[1]) #sort by phase"
   ]
  },
  {
   "cell_type": "code",
   "execution_count": 16,
   "metadata": {
    "collapsed": false
   },
   "outputs": [
    {
     "ename": "LoadError",
     "evalue": "LoadError: UndefVarError: quicksort2D not defined\nwhile loading In[16], in expression starting on line 155",
     "output_type": "error",
     "traceback": [
      "LoadError: UndefVarError: quicksort2D not defined\nwhile loading In[16], in expression starting on line 155",
      ""
     ]
    }
   ],
   "source": [
    "newsorted1 = [phase RV_data] #combine arrays\n",
    "@time quicksort2D(newsorted1)#,1,length(newsorted[:,1]))"
   ]
  },
  {
   "cell_type": "code",
   "execution_count": 17,
   "metadata": {
    "collapsed": false
   },
   "outputs": [
    {
     "ename": "LoadError",
     "evalue": "LoadError: UndefVarError: quicksort2D not defined\nwhile loading In[17], in expression starting on line 155",
     "output_type": "error",
     "traceback": [
      "LoadError: UndefVarError: quicksort2D not defined\nwhile loading In[17], in expression starting on line 155",
      ""
     ]
    }
   ],
   "source": [
    "newsorted2 = [phase RV_data] #combine arrays\n",
    "@time quicksort2D(newsorted2)#,1,length(newsorted[:,1]))"
   ]
  },
  {
   "cell_type": "code",
   "execution_count": 18,
   "metadata": {
    "collapsed": false
   },
   "outputs": [
    {
     "ename": "LoadError",
     "evalue": "LoadError: UndefVarError: quicksort2D not defined\nwhile loading In[18], in expression starting on line 155",
     "output_type": "error",
     "traceback": [
      "LoadError: UndefVarError: quicksort2D not defined\nwhile loading In[18], in expression starting on line 155",
      ""
     ]
    }
   ],
   "source": [
    "newsorted3 = [phase RV_data]\n",
    "@time quicksort2D(newsorted3)#,1,length(newsorted[:,1]))"
   ]
  },
  {
   "cell_type": "code",
   "execution_count": 19,
   "metadata": {
    "collapsed": false
   },
   "outputs": [
    {
     "data": {
      "text/plain": [
       "59x2 Array{Float64,2}:\n",
       " 3.82196  -217.7\n",
       " 3.82264  -221.0\n",
       " 3.82336  -217.8\n",
       " 5.16632  -203.3\n",
       " 5.16702  -204.2\n",
       " 5.16775  -203.6\n",
       " 0.12242   321.0\n",
       " 0.12308   318.4\n",
       " 0.12372   319.2\n",
       " 1.11653   290.6\n",
       " 1.11724   291.0\n",
       " 1.11797   291.7\n",
       " 9.10185    90.7\n",
       " ⋮              \n",
       " 6.7334   -238.4\n",
       " 7.73062  -237.0\n",
       " 1.94048  -113.1\n",
       " 2.72022  -177.0\n",
       " 2.7208   -170.0\n",
       " 2.72139  -172.8\n",
       " 3.02461   379.9\n",
       " 3.02698   382.7\n",
       " 3.03026   386.1\n",
       " 5.72624  -185.9\n",
       " 8.73474  -142.7\n",
       " 5.1871     24.3"
      ]
     },
     "execution_count": 19,
     "metadata": {},
     "output_type": "execute_result"
    }
   ],
   "source": [
    "[phase RV_data]"
   ]
  },
  {
   "cell_type": "code",
   "execution_count": 20,
   "metadata": {
    "collapsed": false
   },
   "outputs": [
    {
     "ename": "LoadError",
     "evalue": "LoadError: UndefVarError: phase_data_arr not defined\nwhile loading In[20], in expression starting on line 1",
     "output_type": "error",
     "traceback": [
      "LoadError: UndefVarError: phase_data_arr not defined\nwhile loading In[20], in expression starting on line 1",
      ""
     ]
    }
   ],
   "source": [
    "plot(phase_data_arr[:,1],phase_data_arr[:,2],\".\")"
   ]
  },
  {
   "cell_type": "code",
   "execution_count": 21,
   "metadata": {
    "collapsed": false
   },
   "outputs": [
    {
     "data": {
      "text/plain": [
       "100000-element Array{Real,1}:\n",
       " 2.58033e6\n",
       " 3.21359e6\n",
       " 3.02553e6\n",
       " 3.14458e6\n",
       " 3.03096e6\n",
       " 3.8313e6 \n",
       " 3.94352e6\n",
       " 3.38432e6\n",
       " 3.59938e6\n",
       " 3.4122e6 \n",
       " 2.62869e6\n",
       " 3.32299e6\n",
       " 2.87204e6\n",
       " ⋮        \n",
       " 3.20805e6\n",
       " 3.20805e6\n",
       " 3.20805e6\n",
       " 3.20805e6\n",
       " 3.20805e6\n",
       " 3.20805e6\n",
       " 3.20805e6\n",
       " 3.20805e6\n",
       " 3.20805e6\n",
       " 3.20805e6\n",
       " 3.20805e6\n",
       " 3.20805e6"
      ]
     },
     "execution_count": 21,
     "metadata": {},
     "output_type": "execute_result"
    }
   ],
   "source": [
    "period = linspace(1,3500,100000)\n",
    "sum = Array(Real,length(period))\n",
    "\n",
    "for (j,P) in enumerate(period)\n",
    "    sum[j] = 0.0\n",
    "    #Sort by phase given period\n",
    "    phase = Array(Real,length(time_data))\n",
    "    phase = mod(time_data,P)\n",
    "    phase_data_arr = [phase RV_data] #combine arrays\n",
    "    phase_sorted = sortrows(phase_data_arr, by=x->x[1]) #sort by phase\n",
    "    for i in 2:length(time_data)\n",
    "        sum[j] += (phase_sorted[i,2]-phase_sorted[i-1,2])*(phase_sorted[i,2]-phase_sorted[i-1,2])\n",
    "    end\n",
    "end\n",
    "sum"
   ]
  },
  {
   "cell_type": "code",
   "execution_count": 22,
   "metadata": {
    "collapsed": false
   },
   "outputs": [
    {
     "data": {
      "image/png": "[encoded data removed]",
      "text/plain": [
       "PyPlot.Figure(PyObject <matplotlib.figure.Figure object at 0x7fb8b2c85e90>)"
      ]
     },
     "metadata": {},
     "output_type": "display_data"
    },
    {
     "data": {
      "text/plain": [
       "1-element Array{Any,1}:\n",
       " PyObject <matplotlib.lines.Line2D object at 0x7fb8ccfcda10>"
      ]
     },
     "execution_count": 22,
     "metadata": {},
     "output_type": "execute_result"
    }
   ],
   "source": [
    "plot(period,log10(sum))"
   ]
  },
  {
   "cell_type": "code",
   "execution_count": 23,
   "metadata": {
    "collapsed": false
   },
   "outputs": [
    {
     "data": {
      "image/png": "[encoded data removed]",
      "text/plain": [
       "PyPlot.Figure(PyObject <matplotlib.figure.Figure object at 0x7fb8b2d86650>)"
      ]
     },
     "metadata": {},
     "output_type": "display_data"
    },
    {
     "data": {
      "text/plain": [
       "PyObject <matplotlib.collections.PathCollection object at 0x7fb8ccec7cd0>"
      ]
     },
     "execution_count": 23,
     "metadata": {},
     "output_type": "execute_result"
    }
   ],
   "source": [
    "min_index=indmin(sum)\n",
    "min_per=period[min_index]\n",
    "npts = 2000\n",
    "scatter(period[min_index-npts:min_index+npts],log10(sum[min_index-npts:min_index+npts]))"
   ]
  },
  {
   "cell_type": "code",
   "execution_count": 24,
   "metadata": {
    "collapsed": false
   },
   "outputs": [],
   "source": [
    "P = min_per\n",
    "sum = 0.0\n",
    "#Sort by phase given period\n",
    "phase = Array(Real,length(time_data))\n",
    "phase = mod(time_data,P)\n",
    "phase_data_arr = [phase RV_data] #combine arrays\n",
    "phase_sorted = sortrows(phase_data_arr, by=x->x[1]) #sort by phase\n",
    "for i in 2:length(time_data)\n",
    "    sum += (phase_sorted[i,2]-phase_sorted[i-1,2])*(phase_sorted[i,2]-phase_sorted[i-1,2])\n",
    "end"
   ]
  },
  {
   "cell_type": "code",
   "execution_count": 25,
   "metadata": {
    "collapsed": false
   },
   "outputs": [
    {
     "data": {
      "image/png": "[encoded data removed]",
      "text/plain": [
       "PyPlot.Figure(PyObject <matplotlib.figure.Figure object at 0x7fb8cd00afd0>)"
      ]
     },
     "metadata": {},
     "output_type": "display_data"
    },
    {
     "data": {
      "text/plain": [
       "PyObject <matplotlib.collections.PathCollection object at 0x7fb8cce0c790>"
      ]
     },
     "execution_count": 25,
     "metadata": {},
     "output_type": "execute_result"
    }
   ],
   "source": [
    "scatter(phase_sorted[:,1],phase_sorted[:,2])"
   ]
  },
  {
   "cell_type": "markdown",
   "metadata": {},
   "source": [
    "### K, $\\varpi, \\gamma$ Analytical Solution"
   ]
  },
  {
   "cell_type": "code",
   "execution_count": 26,
   "metadata": {
    "collapsed": false
   },
   "outputs": [
    {
     "name": "stdout",
     "output_type": "stream",
     "text": [
      "/home/linc/Documents/598_exoplanets/ExoJulia/Homework/hw2/Andrew_Spencer\n"
     ]
    }
   ],
   "source": [
    "; pwd"
   ]
  },
  {
   "cell_type": "code",
   "execution_count": 27,
   "metadata": {
    "collapsed": false
   },
   "outputs": [
    {
     "ename": "LoadError",
     "evalue": "LoadError: ArgumentError: ExoJulia not found in path\nwhile loading In[27], in expression starting on line 4",
     "output_type": "error",
     "traceback": [
      "LoadError: ArgumentError: ExoJulia not found in path\nwhile loading In[27], in expression starting on line 4",
      "",
      " in require at ./loading.jl:249"
     ]
    }
   ],
   "source": [
    "# THIS DOESN'T WORK. WORKING AROUND IT (FOLLOWING CELL)\n",
    "push!(LOAD_PATH, \"/home/linc/Documents/SCHOOL/598_exoplanets/ExoJulia/ExoJulia/\")\n",
    "# import\n",
    "using ExoJulia\n",
    "\n",
    "# Call kepler_solve!()\n",
    "#M = 0.1;\n",
    "#ecc = 0.0;\n",
    "#E = ExoJulia.Orbit.kepler_solve!(M, ecc)"
   ]
  },
  {
   "cell_type": "code",
   "execution_count": 36,
   "metadata": {
    "collapsed": false
   },
   "outputs": [
    {
     "name": "stderr",
     "output_type": "stream",
     "text": [
      "WARNING: replacing module Orbit\n"
     ]
    },
    {
     "data": {
      "text/plain": [
       "Orbit"
      ]
     },
     "execution_count": 36,
     "metadata": {},
     "output_type": "execute_result"
    }
   ],
   "source": [
    "include(\"/home/linc/Documents/598_exoplanets/ExoJulia/ExoJulia/Orbit/orbit.jl\")"
   ]
  },
  {
   "cell_type": "code",
   "execution_count": 60,
   "metadata": {
    "collapsed": false
   },
   "outputs": [
    {
     "data": {
      "text/plain": [
       "vrad_model (generic function with 1 method)"
      ]
     },
     "execution_count": 60,
     "metadata": {},
     "output_type": "execute_result"
    }
   ],
   "source": [
    "#Functions\n",
    "function f_val(time,ecc,period,time_peri)\n",
    "    \n",
    "    M = 2*pi/period*(time-time_peri)\n",
    "    \n",
    "    if(length(M) > 1)\n",
    "        E = Array(Float64,length(M))\n",
    "        f = Array(Float64,length(M))\n",
    "        \n",
    "        for i in 1:length(M)\n",
    "            E[i] = Orbit.kepler_solve!(M[i],ecc)\n",
    "            f[i] = 2*atan(sqrt((1+ecc)/(1-ecc))*tan(E[i]/2))\n",
    "        end\n",
    "        return f \n",
    "    else \n",
    "        E = Orbit.kepler_solve!(M,ecc)\n",
    "        f = 2*atan(sqrt((1+ecc)/(1-ecc))*tan(E/2))\n",
    "        return f\n",
    "    end\n",
    "end\n",
    "\n",
    "function B_func(time_data,P,err_data,ecc,time_peri)   \n",
    "    F = Array(Float64,4,length(time_data))\n",
    "\n",
    "    for i in 1:length(time_data)\n",
    "        F[1,i] = cos(f_val(time_data[i],ecc,P,time_peri))\n",
    "        F[2,i] = sin(f_val(time_data[i],ecc,P,time_peri))\n",
    "        F[3,i] = 1.0\n",
    "        F[4,i] = time_data[i]-time_data[1]\n",
    "    end\n",
    "    \n",
    "    W = zeros(Real,length(time_data),length(time_data))\n",
    "    #W[:,:] = 0.0\n",
    "\n",
    "    for i in 1:length(time_data)\n",
    "        W[i,i] = (err_data[i])^(-2)\n",
    "    end\n",
    "\n",
    "    B = RV_data'*W*F'*inv(F*W*F')\n",
    "    return B   \n",
    "end\n",
    "\n",
    "function vrad_model(x,p)\n",
    "        \n",
    "    ecc = p[1]\n",
    "    time_peri = p[2]\n",
    "    \n",
    "    B = B_func(time_data,P,err_data,ecc,time_peri)\n",
    "  \n",
    "    #B = {h,c,v0,d}\n",
    "    h = B[1]\n",
    "    c = B[2]\n",
    "    v0 = B[3]\n",
    "    #K = sqrt(h*h + c*c)\n",
    "    #curlypi = atan(-c/h)\n",
    "    #gam = v0 - K*ecc*cos(curlypi)\n",
    "    f = f_val(x,ecc,P,time_peri)\n",
    "    vrad = h*cos(f) + c*sin(f) + v0\n",
    "    return vrad\n",
    "\n",
    "end"
   ]
  },
  {
   "cell_type": "code",
   "execution_count": null,
   "metadata": {
    "collapsed": true
   },
   "outputs": [],
   "source": []
  },
  {
   "cell_type": "code",
   "execution_count": 61,
   "metadata": {
    "collapsed": true
   },
   "outputs": [
    {
     "data": {
      "text/plain": [
       "59-element Array{Float64,1}:\n",
       " -217.582 \n",
       " -217.589 \n",
       " -217.596 \n",
       " -222.142 \n",
       " -222.135 \n",
       " -222.127 \n",
       "  259.297 \n",
       "  259.292 \n",
       "  259.287 \n",
       "  251.854 \n",
       "  251.848 \n",
       "  251.842 \n",
       "  163.184 \n",
       "    ⋮     \n",
       " -301.792 \n",
       " -298.642 \n",
       "  -32.7568\n",
       " -127.947 \n",
       " -127.954 \n",
       " -127.962 \n",
       "  278.46  \n",
       "  278.454 \n",
       "  278.445 \n",
       " -164.412 \n",
       "  -73.3951\n",
       "  136.909 "
      ]
     },
     "execution_count": 61,
     "metadata": {},
     "output_type": "execute_result"
    }
   ],
   "source": [
    "#Will loop over these\n",
    "ecc = 0.1\n",
    "time_peri = 0.0 #presumably in days\n",
    "p = [ecc,time_peri]\n",
    "\n",
    "vrad_model(time_data,p)"
   ]
  },
  {
   "cell_type": "code",
   "execution_count": 62,
   "metadata": {
    "collapsed": false,
    "scrolled": false
   },
   "outputs": [
    {
     "data": {
      "text/plain": [
       "LsqFit.LsqFitResult{Float64}(57,[0.4019938242422242,6.685781960104779],[5.11114,8.40864,5.20598,-3.13922,-1.96533,-2.53041,-3.28277,-0.440252,-1.3372,2.97301  …  -0.0945099,4.80753,-4.29727,-0.611214,7.07074,3.66884,-1.20744,-5.52112,-1.26405,9.77039],59x2 Array{Float64,2}:\n",
       "  163.756     -6.64213 \n",
       "  163.765     -6.64195 \n",
       "  163.774     -6.64176 \n",
       "  231.462      4.37562 \n",
       "  231.45       4.3758  \n",
       "  213.635      4.03937 \n",
       "  123.654      6.79023 \n",
       "  123.573      6.79065 \n",
       "  123.494      6.79105 \n",
       "    4.78438    7.73914 \n",
       "    4.6948     7.73913 \n",
       "    4.21914    7.0942  \n",
       " -476.191     -1.77865 \n",
       "    ⋮                  \n",
       "  269.599      0.295637\n",
       "  319.244      0.710322\n",
       "  -86.0739     4.76543 \n",
       "   44.4299   -10.8644  \n",
       "   44.4448   -10.8643  \n",
       "   41.04     -10.0285  \n",
       "  638.46      -1.49508 \n",
       "  687.388     -1.60029 \n",
       "  736.214     -1.70008 \n",
       "  106.79      -9.39171 \n",
       "  -58.4265    -9.62752 \n",
       " -399.139     -3.8467  )"
      ]
     },
     "execution_count": 62,
     "metadata": {},
     "output_type": "execute_result"
    }
   ],
   "source": [
    "fit = curve_fit(vrad_model,time_data,RV_data,err_data,[ecc,time_peri])"
   ]
  },
  {
   "cell_type": "code",
   "execution_count": 63,
   "metadata": {
    "collapsed": false
   },
   "outputs": [
    {
     "data": {
      "text/plain": [
       "2-element Array{Float64,1}:\n",
       " 0.401994\n",
       " 6.68578 "
      ]
     },
     "execution_count": 63,
     "metadata": {},
     "output_type": "execute_result"
    }
   ],
   "source": [
    "fit.param"
   ]
  },
  {
   "cell_type": "code",
   "execution_count": 40,
   "metadata": {
    "collapsed": false
   },
   "outputs": [
    {
     "data": {
      "text/plain": [
       "4-element Array{Real,1}:\n",
       " 1.0\n",
       " 1.0\n",
       " 1.0\n",
       " 1.0"
      ]
     },
     "execution_count": 40,
     "metadata": {},
     "output_type": "execute_result"
    }
   ],
   "source": [
    "testarr = Array(Real,4,8)\n",
    "testarr[:,:] = 1.0\n",
    "testarr[:,1]"
   ]
  },
  {
   "cell_type": "code",
   "execution_count": 41,
   "metadata": {
    "collapsed": false
   },
   "outputs": [
    {
     "data": {
      "text/plain": [
       "-40.75528673939246"
      ]
     },
     "execution_count": 41,
     "metadata": {},
     "output_type": "execute_result"
    }
   ],
   "source": [
    "F = Array(Real,4,length(time_data))\n",
    "\n",
    "for i in 1:length(time_data)\n",
    "    F[1,i] = cos(f_val(time_data[i],ecc,P,time_peri))\n",
    "    F[2,i] = sin(f_val(time_data[i],ecc,P,time_peri))\n",
    "    F[3,i] = 1.0\n",
    "    F[4,i] = time_data[i]-time_data[1]\n",
    "end\n",
    "\n",
    "W = zeros(Real,length(time_data),length(time_data))\n",
    "#W[:,:] = 0.0\n",
    "\n",
    "for i in 1:length(time_data)\n",
    "    W[i,i] = (err_data[i])^(-2)\n",
    "end\n",
    "\n",
    "B = RV_data'*W*F'*inv(F*W*F')\n",
    "\n",
    "#B = {h,c,v0,d}\n",
    "h = B[1]\n",
    "c = B[2]\n",
    "v0 = B[3]\n",
    "K = sqrt(h*h + c*c)\n",
    "curlypi = atan(-c/h)\n",
    "gam = v0 - K*ecc*cos(curlypi)"
   ]
  },
  {
   "cell_type": "code",
   "execution_count": 42,
   "metadata": {
    "collapsed": false
   },
   "outputs": [
    {
     "data": {
      "text/plain": [
       "4x59 Array{Real,2}:\n",
       " -0.91697   -0.916983  -0.916996   -0.380286  …    -0.564969     0.802629\n",
       "  0.398955   0.398927   0.398897   -0.924869        0.825112    -0.596479\n",
       "  1.0        1.0        1.0         1.0             1.0          1.0     \n",
       "  0.0        0.00068    0.0014    151.344        2554.91      2741.37    "
      ]
     },
     "execution_count": 42,
     "metadata": {},
     "output_type": "execute_result"
    }
   ],
   "source": [
    "F"
   ]
  },
  {
   "cell_type": "code",
   "execution_count": 44,
   "metadata": {
    "collapsed": false
   },
   "outputs": [
    {
     "data": {
      "text/plain": [
       "(\n",
       "1x4 Array{Real,2}:\n",
       " 271.966  113.701  -13.5586  -0.00395699,\n",
       "\n",
       "294.7773872358867,-0.3959867537711906,-40.75528673939246)"
      ]
     },
     "execution_count": 44,
     "metadata": {},
     "output_type": "execute_result"
    }
   ],
   "source": [
    "B,K,curlypi,gam"
   ]
  },
  {
   "cell_type": "code",
   "execution_count": null,
   "metadata": {
    "collapsed": true
   },
   "outputs": [],
   "source": [
    "#Will loop over these\n",
    "for i in \n",
    "ecc = 0.1\n",
    "time_peri = 0.0 #presumably in days"
   ]
  },
  {
   "cell_type": "code",
   "execution_count": 127,
   "metadata": {
    "collapsed": false
   },
   "outputs": [
    {
     "data": {
      "image/png": "[encoded data removed]",
      "text/plain": [
       "PyPlot.Figure(PyObject <matplotlib.figure.Figure object at 0x7fb8cc8bdc10>)"
      ]
     },
     "metadata": {},
     "output_type": "display_data"
    },
    {
     "data": {
      "text/plain": [
       "1-element Array{Any,1}:\n",
       " PyObject <matplotlib.lines.Line2D object at 0x7fb8cc792650>"
      ]
     },
     "execution_count": 127,
     "metadata": {},
     "output_type": "execute_result"
    }
   ],
   "source": [
    "time_data_calc = linspace(minimum(time_data),maximum(time_data),10000)\n",
    "plot(time_data_calc,vrad_model(time_data_calc,fit.param))\n",
    "plot(time_data,RV_data,\".\")"
   ]
  },
  {
   "cell_type": "markdown",
   "metadata": {},
   "source": [
    "# 3. f & g functions"
   ]
  },
  {
   "cell_type": "code",
   "execution_count": 71,
   "metadata": {
    "collapsed": false
   },
   "outputs": [
    {
     "ename": "LoadError",
     "evalue": "LoadError: UndefVarError: mass not defined\nwhile loading In[71], in expression starting on line 1",
     "output_type": "error",
     "traceback": [
      "LoadError: UndefVarError: mass not defined\nwhile loading In[71], in expression starting on line 1",
      ""
     ]
    }
   ],
   "source": [
    "a = (G*mass*(period/(2*pi))^2)^(1/3)\n",
    "r0 = (a,0)\n",
    "v0 = (0,sqrt(G*mass*(2/r0 - 1/a)))\n",
    "\n",
    "M0 = 2*pi/period*(t0-time_peri)\n",
    "E0 = Orbit.kepler_solve!(M0,ecc)\n",
    "\n",
    "function f_func(t,t0,E0,M0,a)\n",
    "    \n",
    "    M = 2*pi/period*(t-time_peri)\n",
    "    E = Orbit.kepler_solve!(M,ecc) \n",
    "    a*(cos(E-E0) + 1)/r0\n",
    "    \n",
    "end\n",
    "\n",
    "\n",
    "function g_func(t,t0,E0,M0)\n",
    "    \n",
    "    M = 2*pi/period*(t-time_peri)\n",
    "    E = Orbit.kepler_solve!(M,ecc) \n",
    "    (t-t0) + period(sin(E-E0) - (E-E0))/(2*pi)\n",
    "    \n",
    "end"
   ]
  },
  {
   "cell_type": "code",
   "execution_count": 129,
   "metadata": {
    "collapsed": false
   },
   "outputs": [
    {
     "data": {
      "text/plain": [
       "mergesort (generic function with 1 method)"
      ]
     },
     "execution_count": 129,
     "metadata": {},
     "output_type": "execute_result"
    }
   ],
   "source": [
    "function ms_merge(b,c,a,Na::Int32,Nb::Int32,Nc::Int32)\n",
    "\n",
    "    j = 1\n",
    "    k = 1\n",
    "\n",
    "    for i in 1:Na\n",
    "        if((j <= Nb) && (k <= Nc))\n",
    "            if(b[j,1] <= c[k,1])\n",
    "\t        a[i,:] = b[j,:]\n",
    "\t        j = j + 1\n",
    "            elseif(k <= Nc)\n",
    "\t        a[i,:] = c[k,:]\n",
    "\t        k = k + 1\n",
    "            end\n",
    "        elseif(j <= Nb)\n",
    "            a[i,:] = b[j,:]\n",
    "            j = j + 1\n",
    "        elseif(k <= Nc)\n",
    "            a[i,:] = c[k,:]\n",
    "            k = k + 1\n",
    "        else\n",
    "            println(\"Possible error\\n\")\n",
    "            println(\"j = $j, b[j] = $(b[j,1]), k = $k, c[k] = $(c[k,1])\\n\")\n",
    "        end\n",
    "    end\n",
    "end\n",
    "\n",
    "function ms_sort(a,N::Int32)\n",
    "\n",
    "    if(N < 2)\n",
    " #       println(\"N < 2, returning\\n\")\n",
    "        return\n",
    "    end\n",
    "\n",
    "    N1 = div(N,2)\n",
    "    b = Array(Float64,N1,2)\n",
    "    c = Array(Float64,N-N1,2)\n",
    "\n",
    "    for i in 1:N1\n",
    "        b[i,:] = a[i,:]\n",
    "    end\n",
    "    for i in (N1+1):N\n",
    "        #println(\"$i\")\n",
    "        c[i-N1,:] = a[i,:]\n",
    "    end\n",
    "\n",
    "    ms_sort(b,N1)\n",
    "    ms_sort(c,N-N1)\n",
    "    ms_merge(b,c,a,N,N1,N-N1)\n",
    "\n",
    "end\n",
    "\n",
    "function mergesort(a,N)\n",
    "\n",
    "    ms_sort(a,N)\n",
    "\n",
    "end"
   ]
  },
  {
   "cell_type": "code",
   "execution_count": 130,
   "metadata": {
    "collapsed": false
   },
   "outputs": [
    {
     "name": "stdout",
     "output_type": "stream",
     "text": [
      "  5.046636 seconds (138.53 M allocations: 5.427 GB, 17.32% gc time)\n"
     ]
    }
   ],
   "source": [
    "a = rand(Float64,1000000,2)\n",
    "@time mergesort(a,1000000)"
   ]
  },
  {
   "cell_type": "code",
   "execution_count": null,
   "metadata": {
    "collapsed": true
   },
   "outputs": [],
   "source": []
  }
 ],
 "metadata": {
  "kernelspec": {
   "display_name": "Julia 0.4.5",
   "language": "julia",
   "name": "julia-0.4"
  },
  "language_info": {
   "file_extension": ".jl",
   "mimetype": "application/julia",
   "name": "julia",
   "version": "0.4.5"
  }
 },
 "nbformat": 4,
 "nbformat_minor": 0
}
