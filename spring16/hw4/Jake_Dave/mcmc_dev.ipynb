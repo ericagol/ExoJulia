{
 "cells": [
  {
   "cell_type": "code",
   "execution_count": 22,
   "metadata": {
    "collapsed": false
   },
   "outputs": [
    {
     "name": "stderr",
     "output_type": "stream",
     "text": [
      "WARNING: replacing module ExoJulia\n",
      "WARNING: requiring \"Exojulia\" in module \"Main\" did not define a corresponding module.\n",
      "//anaconda/lib/python2.7/site-packages/matplotlib/font_manager.py:273: UserWarning: Matplotlib is building the font cache using fc-list. This may take a moment.\n",
      "  warnings.warn('Matplotlib is building the font cache using fc-list. This may take a moment.')\n"
     ]
    }
   ],
   "source": [
    "push!(LOAD_PATH,\"../../../ExoJulia/\")\n",
    "push!(LOAD_PATH,\".\")\n",
    "\n",
    "using Exojulia\n",
    "using PyPlot"
   ]
  },
  {
   "cell_type": "code",
   "execution_count": 109,
   "metadata": {
    "collapsed": false
   },
   "outputs": [
    {
     "data": {
      "text/plain": [
       "chisq (generic function with 1 method)"
      ]
     },
     "execution_count": 109,
     "metadata": {},
     "output_type": "execute_result"
    }
   ],
   "source": [
    "function chisq(x::Array{Float64,1},y::Array{Float64,1},err::Array{Float64,1},model::Function,params::Vector)\n",
    "    # Compute the simple chi-squared ln likelihood\n",
    "    \n",
    "    res = 0.0\n",
    "    \n",
    "    res = sum(((y .- model(x,y,err,params)).^2.0)./(err.*err))\n",
    "    \n",
    "    return res\n",
    "end"
   ]
  },
  {
   "cell_type": "code",
   "execution_count": 157,
   "metadata": {
    "collapsed": false
   },
   "outputs": [
    {
     "data": {
      "text/plain": [
       "affine_inv_mcmc (generic function with 4 methods)"
      ]
     },
     "execution_count": 157,
     "metadata": {},
     "output_type": "execute_result"
    }
   ],
   "source": [
    "function affine_inv_mcmc(nsteps::Int,params::Vector,model::Function,errors::Vector;\n",
    "    walk_scale::Int=3,lnlike::Function=chisq,verbose::Bool=true)\n",
    "    #\n",
    "    # Run an affine-invariant markov chain\n",
    "    # Foreman-Mackey et al. (2014) - 'emc' 'mcmc hammer'\n",
    "    # Based on code written by Eric Agol 2016 (see fit_transits.jl)\n",
    "    #\n",
    "    # Parameters\n",
    "    # ----------\n",
    "    # nsteps : Int\n",
    "    #    Number of MCMC steps for walkers to take\n",
    "    # params : Vector\n",
    "    #    Vector of inital guesses on parameters to optimize over\n",
    "    # model : Function\n",
    "    #    User-defined model used to compute ln likelihood\n",
    "    #    Must be of the form: model(x::Array{Float64,1},y::Array{Float64,1},err::Array{Float64,1},params::Vector)\n",
    "    # errors : Vector\n",
    "    #   Vector of errors on initial params guess\n",
    "    # walk_scale : Int\n",
    "    #    Number of walkers per parameters.  3 is a good value\n",
    "    # lnlike : Function\n",
    "    #    Loglikelihood function.  Defaults to simple chi-square\n",
    "    #\n",
    "    # Returns\n",
    "    # -------\n",
    "    # par_mcmc : Array{Float64,3}\n",
    "    #    Array containing history of all walkers for each parameter\n",
    "    # ln_mcmc : Array{Float64,2}\n",
    "    #    Array containing history of ln likelihood\n",
    "    # nwalkers : Int\n",
    "    #    Number of walkers used\n",
    "    # nparam : Int\n",
    "    #    Number of params fitted for\n",
    "    \n",
    "    nparam = length(params)\n",
    "    \n",
    "    # Want walkers to be a few time the number of params\n",
    "    nwalkers = nparam * walk_scale\n",
    "    \n",
    "    # Set up arrays to hold the results:\n",
    "    par_mcmc = zeros(nwalkers,nsteps,nparam)\n",
    "    ln_mcmc = zeros(nwalkers,nsteps)\n",
    "    \n",
    "    # Initialize walkers:\n",
    "    par_trial = params \n",
    "    \n",
    "    # Estimate best ln like from input params\n",
    "    ln_best = lnlike(x,y,err,model,par_trial)\n",
    "    \n",
    "    for j=1:nwalkers\n",
    "        # Select from within uncertainties:\n",
    "        ln_trial = 1.0e100\n",
    "    \n",
    "        # Only initiate models with reasonable ln like values:\n",
    "        while ln_trial > (ln_best + 1000.0)\n",
    "            par_trial = params + errors.*randn(nparam) \n",
    "            ln_trial = lnlike(x,y,err,model,par_trial)\n",
    "        end\n",
    "      \n",
    "        ln_mcmc[j,1] = ln_trial\n",
    "        par_mcmc[j,1,:] = par_trial\n",
    "        \n",
    "        if verbose\n",
    "            println(\"Success: \",par_trial,ln_trial)\n",
    "        end\n",
    "    end\n",
    "    \n",
    "    # Initialize scale length & acceptance counter:\n",
    "    ascale = 2.0\n",
    "    accept = 0\n",
    "    \n",
    "    # Next, loop over steps in markov chain:\n",
    "    for i=2:nsteps\n",
    "        for j=1:nwalkers\n",
    "            ipartner = j\n",
    "    \n",
    "        # Choose another walker to 'breed' a trial step with:\n",
    "        while ipartner == j\n",
    "            ipartner = ceil(Int,rand()*nwalkers)\n",
    "        end\n",
    "    \n",
    "        # Now, choose a new set of parameters for the trial step:\n",
    "        z = (rand()*(sqrt(ascale)-1.0/sqrt(ascale))+1.0/sqrt(ascale))^2\n",
    "        par_trial = vec(z*par_mcmc[j,i-1,:]+(1.0-z)*par_mcmc[ipartner,i-1,:])\n",
    "    \n",
    "        # Compute model & chi-square:  \n",
    "        ln_trial = lnlike(x,y,err,model,par_trial)\n",
    "    \n",
    "        # Next, determine whether to accept this trial step:\n",
    "        alp = z^(nparam-1)*exp(-0.5*(ln_trial - ln_mcmc[j,i-1]))\n",
    "        if alp >= rand()\n",
    "    \n",
    "            # If step is accepted, add it to the chains!\n",
    "            par_mcmc[j,i,:] = par_trial\n",
    "            ln_mcmc[j,i,:] = ln_trial\n",
    "            accept = accept + 1\n",
    "       \n",
    "        # If step is rejected, then copy last step:\n",
    "        else\n",
    "            par_mcmc[j,i,:] = par_mcmc[j,i-1,:]\n",
    "            ln_mcmc[j,i,:] = ln_mcmc[j,i-1]\n",
    "        end\n",
    "      end\n",
    "      \n",
    "      if mod(i,5000) == 0\n",
    "          frac_acc = accept/(5000*nwalkers)\n",
    "          \n",
    "          if verbose\n",
    "              println(\"Number of steps: \",i,\" acceptance rate: \",frac_acc)\n",
    "          end\n",
    "          \n",
    "          ascale = 1.0 + (frac_acc/0.25)*(ascale-1.0)\n",
    "          accept = 0\n",
    "      end\n",
    "    end\n",
    "    \n",
    "    return par_mcmc, ln_mcmc, nwalkers, nparam\n",
    "end"
   ]
  },
  {
   "cell_type": "code",
   "execution_count": 156,
   "metadata": {
    "collapsed": false
   },
   "outputs": [
    {
     "data": {
      "text/plain": [
       "est_burnin (generic function with 3 methods)"
      ]
     },
     "execution_count": 156,
     "metadata": {},
     "output_type": "execute_result"
    }
   ],
   "source": [
    "function est_burnin(par_mcmc::Array{Float64,3},nwalkers::Int,nparam::Int,nsteps::Int)\n",
    "    # Determine time of burn-in by calculating first time median is crossed\n",
    "    # Algorithm by Eric Agol 2016\n",
    "    #\n",
    "    # Parameters\n",
    "    # ----------\n",
    "    # par_mcmc : Array{Float64,3}\n",
    "    #    Array containing history of all walkers for each parameter\n",
    "    # nwalkers : Int\n",
    "    #    Number of walkers used in MCMC\n",
    "    # nparam : Int\n",
    "    #    Number of params fit for in MCMC\n",
    "    # nsteps : Int\n",
    "    #    Number of MCMC steps\n",
    "    #\n",
    "    # Returns\n",
    "    # -------\n",
    "    # iburn : Int\n",
    "    #    Index corresponding to the step where the burn in approximately ended\n",
    "    \n",
    "    iburn = 0\n",
    "    for i=1:nparam\n",
    "      med_param=median(par_mcmc[1:nwalkers,1:nsteps,i])\n",
    "      for j=1:nwalkers\n",
    "        istep=2\n",
    "        while (par_mcmc[j,istep,i] > med_param) == (par_mcmc[j,istep-1,i] > med_param) && (istep < nsteps)\n",
    "          istep=istep+1\n",
    "        end\n",
    "        if istep >= iburn\n",
    "          iburn = istep\n",
    "        end\n",
    "      end\n",
    "    end\n",
    "   \n",
    "    return iburn\n",
    "    \n",
    "end"
   ]
  },
  {
   "cell_type": "markdown",
   "metadata": {},
   "source": [
    "# Test out the above MCMC routine by fitting to some simple sinusoidal data."
   ]
  },
  {
   "cell_type": "code",
   "execution_count": 102,
   "metadata": {
    "collapsed": false
   },
   "outputs": [
    {
     "data": {
      "text/plain": [
       "test_model (generic function with 1 method)"
      ]
     },
     "execution_count": 102,
     "metadata": {},
     "output_type": "execute_result"
    }
   ],
   "source": [
    "function test_model(x::Array{Float64,1},y::Array{Float64,1},err::Array{Float64,1},params::Vector)\n",
    "    return params[1].*sin(x .- params[2])\n",
    "end"
   ]
  },
  {
   "cell_type": "markdown",
   "metadata": {},
   "source": [
    "### Generate some fake data and plot it."
   ]
  },
  {
   "cell_type": "code",
   "execution_count": 65,
   "metadata": {
    "collapsed": false
   },
   "outputs": [],
   "source": [
    "test_amp = 2.0 # params[0]\n",
    "test_phase = pi/3.0 # params[1]\n",
    "\n",
    "#y += yerr * np.random.randn(N)\n",
    "\n",
    "N = 100\n",
    "\n",
    "test_x = collect(linspace(0,10,N));\n",
    "\n",
    "test_yerr = (0.25 + 0.5*rand(N)) .* randn(N); # normally distributed noise\n",
    "\n",
    "test_y = test_amp.*sin(test_x .- test_phase) .+ test_yerr;"
   ]
  },
  {
   "cell_type": "code",
   "execution_count": 66,
   "metadata": {
    "collapsed": false
   },
   "outputs": [
    {
     "data": {
      "image/png": "[encoded data removed]",
      "text/plain": [
       "PyPlot.Figure(PyObject <matplotlib.figure.Figure object at 0x31f72b390>)"
      ]
     },
     "metadata": {},
     "output_type": "display_data"
    }
   ],
   "source": [
    "errorbar(test_x,test_y,yerr=yerr,fmt=\"o\")\n",
    "\n",
    "xlabel(\"x\")\n",
    "ylabel(\"y\")\n",
    "grid(true)"
   ]
  },
  {
   "cell_type": "markdown",
   "metadata": {},
   "source": [
    "### Write wrapper for our synthetic model for MCMC calling!"
   ]
  },
  {
   "cell_type": "code",
   "execution_count": 145,
   "metadata": {
    "collapsed": false
   },
   "outputs": [
    {
     "data": {
      "text/plain": [
       "fit_test_model (generic function with 2 methods)"
      ]
     },
     "execution_count": 145,
     "metadata": {},
     "output_type": "execute_result"
    }
   ],
   "source": [
    "function fit_test_model(nsteps::Int,time::Array{Float64,1},data::Array{Float64,1},sigma::Array{Float64,1})\n",
    "    global x = time\n",
    "    global y = data\n",
    "    global err = sigma\n",
    "    \n",
    "    params = [1.0, pi]\n",
    "    errors = [0.5, 0.5]\n",
    "    \n",
    "    return affine_inv_mcmc(nsteps,params,test_model,errors)\n",
    "end"
   ]
  },
  {
   "cell_type": "code",
   "execution_count": 146,
   "metadata": {
    "collapsed": false
   },
   "outputs": [
    {
     "name": "stdout",
     "output_type": "stream",
     "text": [
      "Success: [1.0077006204044736,2.945699297740498]93531.59634945184\n",
      "Success: [1.5245444971919215,2.4510698016370647]58448.208528858835\n",
      "Success: [1.0880253591530575,2.7396845895740882]79260.21154690473\n",
      "Success: [1.562260167834485,2.643718882966824]76920.95127895889\n",
      "Success: [1.457366235983693,2.6222648352898283]73485.19263154239\n",
      "Success: [1.1152386680793922,2.291422154186303]48260.46733092405\n",
      "Number of steps: 5000 acceptance rate: 0.7124666666666667\n",
      "Number of steps: 10000 acceptance rate: 0.49733333333333335\n",
      "Number of steps: 15000 acceptance rate: 0.3736\n",
      "Number of steps: 20000 acceptance rate: 0.3105\n",
      "Number of steps: 25000 acceptance rate: 0.28023333333333333\n",
      "Number of steps: 30000 acceptance rate: 0.26393333333333335\n",
      "Number of steps: 35000 acceptance rate: 0.2588\n",
      "Number of steps: 40000 acceptance rate: 0.24763333333333334\n",
      "Number of steps: 45000 acceptance rate: 0.24683333333333332\n",
      "Number of steps: 50000"
     ]
    },
    {
     "data": {
      "text/plain": [
       "(\n",
       "6x50000x2 Array{Float64,3}:\n",
       "[:, :, 1] =\n",
       " 1.0077   1.06344   1.06344   1.06344   …  1.998    1.998    2.00745  2.00745\n",
       " 1.52454  1.65938   1.6861    1.6861       2.00659  2.00659  2.00659  2.00659\n",
       " 1.08803  1.08803   1.08803   1.08803      1.99367  2.00388  2.00388  2.00388\n",
       " 1.56226  1.56226   1.56226   1.39787      2.00848  2.00848  2.00929  2.00929\n",
       " 1.45737  1.43297   1.61417   1.85044      2.00838  2.00838  2.00082  1.99847\n",
       " 1.11524  0.894563  0.894563  0.883585  …  2.00548  2.00548  2.00497  2.00589\n",
       "\n",
       "[:, :, 2] =\n",
       " 2.9457   2.89236  2.89236  2.89236  …  1.05548  1.05548  1.04593  1.04593\n",
       " 2.45107  2.36192  2.2844   2.2844      1.04306  1.04306  1.04306  1.04306\n",
       " 2.73968  2.73968  2.73968  2.73968     1.04075  1.04688  1.04688  1.04688\n",
       " 2.64372  2.64372  2.64372  2.51416     1.04963  1.04963  1.05245  1.05245\n",
       " 2.62226  2.61728  2.48239  2.36685     1.04498  1.04498  1.05263  1.05705\n",
       " 2.29142  2.11751  2.11751  2.06714  …  1.06048  1.06048  1.05612  1.04865,\n",
       "\n",
       "6x50000 Array{Float64,2}:\n",
       " 93531.6  90783.5  90783.5  90783.5  90783.5  …  102.719    99.4242   99.4242\n",
       " 58448.2  51288.7  45027.4  45027.4  45027.4      99.567    99.567    99.567 \n",
       " 79260.2  79260.2  79260.2  79260.2  71958.4      99.4778   99.4778   99.4778\n",
       " 76921.0  76921.0  76921.0  63323.7  63323.7     100.142   101.373   101.373 \n",
       " 73485.2  72751.6  61733.5  52709.5  52709.5      99.4735  101.014   103.572 \n",
       " 48260.5  43118.7  43118.7  41283.5  41283.5  …  106.396   102.826    99.6759,\n",
       "\n",
       "6,2)"
      ]
     },
     "execution_count": 146,
     "metadata": {},
     "output_type": "execute_result"
    },
    {
     "name": "stdout",
     "output_type": "stream",
     "text": [
      " acceptance rate: 0.25743333333333335\n"
     ]
    }
   ],
   "source": [
    "nsteps = 50000\n",
    "par_mcmc, lnlike_mcmc, nwalkers, nparam = fit_test_model(nsteps,test_x,test_y,test_yerr)"
   ]
  },
  {
   "cell_type": "code",
   "execution_count": 151,
   "metadata": {
    "collapsed": false
   },
   "outputs": [
    {
     "name": "stdout",
     "output_type": "stream",
     "text": [
      "119\n",
      "Amp:   2.0060 +/-   0.0076\n",
      "Phase:   1.0456 +/-   0.0058\n"
     ]
    }
   ],
   "source": [
    "iburn = est_burnin(par_mcmc,nwalkers,nparam,nsteps)\n",
    "println(iburn)\n",
    "\n",
    "pavg = mean(vec(par_mcmc[1:nwalkers,iburn:nsteps,1]));\n",
    "psig = std(vec(par_mcmc[1:nwalkers,iburn:nsteps,1]));\n",
    "@printf \"Amp: %8.4f +/- %8.4f\\n\" pavg psig\n",
    "\n",
    "pavg = mean(vec(par_mcmc[1:nwalkers,iburn:nsteps,2]));\n",
    "psig = std(vec(par_mcmc[1:nwalkers,iburn:nsteps,2]));\n",
    "@printf \"Phase: %8.4f +/- %8.4f\\n\" pavg psig"
   ]
  },
  {
   "cell_type": "code",
   "execution_count": 152,
   "metadata": {
    "collapsed": false
   },
   "outputs": [
    {
     "data": {
      "text/plain": [
       "1.0471975511965976"
      ]
     },
     "execution_count": 152,
     "metadata": {},
     "output_type": "execute_result"
    }
   ],
   "source": [
    "pi/3.0"
   ]
  },
  {
   "cell_type": "code",
   "execution_count": 153,
   "metadata": {
    "collapsed": false
   },
   "outputs": [
    {
     "data": {
      "text/plain": [
       "Array{Float64,2}"
      ]
     },
     "execution_count": 153,
     "metadata": {},
     "output_type": "execute_result"
    }
   ],
   "source": [
    "typeof(lnlike_mcmc)"
   ]
  },
  {
   "cell_type": "code",
   "execution_count": null,
   "metadata": {
    "collapsed": true
   },
   "outputs": [],
   "source": []
  },
  {
   "cell_type": "code",
   "execution_count": null,
   "metadata": {
    "collapsed": true
   },
   "outputs": [],
   "source": []
  },
  {
   "cell_type": "code",
   "execution_count": null,
   "metadata": {
    "collapsed": true
   },
   "outputs": [],
   "source": []
  }
 ],
 "metadata": {
  "kernelspec": {
   "display_name": "Julia 0.4.5",
   "language": "julia",
   "name": "julia-0.4"
  },
  "language_info": {
   "file_extension": ".jl",
   "mimetype": "application/julia",
   "name": "julia",
   "version": "0.4.5"
  }
 },
 "nbformat": 4,
 "nbformat_minor": 0
}
