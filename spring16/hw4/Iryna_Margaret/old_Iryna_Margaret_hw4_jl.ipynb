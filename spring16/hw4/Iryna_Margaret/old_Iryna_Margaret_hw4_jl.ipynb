{
 "cells": [
  {
   "cell_type": "code",
   "execution_count": 6,
   "metadata": {
    "collapsed": true
   },
   "outputs": [],
   "source": [
    "using PyPlot\n",
    "using LsqFit"
   ]
  },
  {
   "cell_type": "code",
   "execution_count": 7,
   "metadata": {
    "collapsed": false
   },
   "outputs": [
    {
     "ename": "LoadError",
     "evalue": "LoadError: SystemError: opening file ttv_planet1.txt: No such file or directory\nwhile loading In[7], in expression starting on line 1",
     "output_type": "error",
     "traceback": [
      "LoadError: SystemError: opening file ttv_planet1.txt: No such file or directory\nwhile loading In[7], in expression starting on line 1",
      "",
      " in open at /Volumes/Julia/Julia-0.4.5.app/Contents/Resources/julia/lib/julia/sys.dylib (repeats 2 times)",
      " in readdlm_auto at datafmt.jl:45",
      " in readdlm at datafmt.jl:39",
      " in readdlm at datafmt.jl:36"
     ]
    }
   ],
   "source": [
    "data1 = readdlm(\"ttv_planet1.txt\")\n",
    "data2 = readdlm(\"ttv_planet2.txt\") ;"
   ]
  },
  {
   "cell_type": "code",
   "execution_count": 8,
   "metadata": {
    "collapsed": false
   },
   "outputs": [
    {
     "ename": "LoadError",
     "evalue": "LoadError: UndefVarError: data1 not defined\nwhile loading In[8], in expression starting on line 1",
     "output_type": "error",
     "traceback": [
      "LoadError: UndefVarError: data1 not defined\nwhile loading In[8], in expression starting on line 1",
      ""
     ]
    }
   ],
   "source": [
    "times1 = reshape(data1, length(data1))\n",
    "times2 = reshape(data2, length(data2)) "
   ]
  },
  {
   "cell_type": "code",
   "execution_count": 9,
   "metadata": {
    "collapsed": false,
    "scrolled": true
   },
   "outputs": [
    {
     "data": {
      "text/plain": [
       "linspace(0.0,17328.0,5)"
      ]
     },
     "execution_count": 9,
     "metadata": {},
     "output_type": "execute_result"
    }
   ],
   "source": [
    "data3 = linspace(0.0, 17328., 5)"
   ]
  },
  {
   "cell_type": "code",
   "execution_count": 10,
   "metadata": {
    "collapsed": false
   },
   "outputs": [
    {
     "data": {
      "text/plain": [
       "5-element Array{Float64,1}:\n",
       "     0.0\n",
       "  4332.0\n",
       "  8664.0\n",
       " 12996.0\n",
       " 17328.0"
      ]
     },
     "execution_count": 10,
     "metadata": {},
     "output_type": "execute_result"
    }
   ],
   "source": [
    "times3 = reshape(data3, length(data3))"
   ]
  },
  {
   "cell_type": "code",
   "execution_count": 11,
   "metadata": {
    "collapsed": false
   },
   "outputs": [
    {
     "ename": "LoadError",
     "evalue": "LoadError: UndefVarError: period not defined\nwhile loading In[11], in expression starting on line 1",
     "output_type": "error",
     "traceback": [
      "LoadError: UndefVarError: period not defined\nwhile loading In[11], in expression starting on line 1",
      ""
     ]
    }
   ],
   "source": [
    "period(times3)"
   ]
  },
  {
   "cell_type": "code",
   "execution_count": 12,
   "metadata": {
    "collapsed": false
   },
   "outputs": [
    {
     "data": {
      "text/plain": [
       "period (generic function with 1 method)"
      ]
     },
     "execution_count": 12,
     "metadata": {},
     "output_type": "execute_result"
    }
   ],
   "source": [
    "function period(times)\n",
    "    dt = zeros(length(times)-1)\n",
    "    for i in range(1, length(times)-1)\n",
    "        dt[i] = times[i+1] - times[i]\n",
    "    end\n",
    "    return mean(dt)\n",
    "end"
   ]
  },
  {
   "cell_type": "code",
   "execution_count": 13,
   "metadata": {
    "collapsed": false
   },
   "outputs": [
    {
     "ename": "LoadError",
     "evalue": "LoadError: UndefVarError: times1 not defined\nwhile loading In[13], in expression starting on line 1",
     "output_type": "error",
     "traceback": [
      "LoadError: UndefVarError: times1 not defined\nwhile loading In[13], in expression starting on line 1",
      ""
     ]
    }
   ],
   "source": [
    "println(period(times1))\n",
    "println(period(times2))"
   ]
  },
  {
   "cell_type": "code",
   "execution_count": 14,
   "metadata": {
    "collapsed": false,
    "scrolled": true
   },
   "outputs": [
    {
     "data": {
      "text/plain": [
       "TTVFaster"
      ]
     },
     "execution_count": 14,
     "metadata": {},
     "output_type": "execute_result"
    }
   ],
   "source": [
    "include(\"/Users/mlazz/Dropbox/UW/Spring2016/ASTR598/ExoJulia/Homework/hw4/compute_ttv.jl\")"
   ]
  },
  {
   "cell_type": "code",
   "execution_count": 15,
   "metadata": {
    "collapsed": false
   },
   "outputs": [
    {
     "data": {
      "text/plain": [
       "ttv_wrapper (generic function with 1 method)"
      ]
     },
     "execution_count": 15,
     "metadata": {},
     "output_type": "execute_result"
    }
   ],
   "source": [
    "function ttv_wrapper(time1, time2, p)\n",
    "    #Parameters for planet 1\n",
    "    mass_ratio1 = p[1]\n",
    "    per1 = p[2]\n",
    "    trans01 = p[3]\n",
    "    ecosw1 = p[4]\n",
    "    esinw1 = p[5]\n",
    "    \n",
    "    #Paramters for planet 2\n",
    "    mass_ratio2 = p[6]\n",
    "    per2 = p[7]\n",
    "    trans02 = p[8]\n",
    "    ecosw2 = p[9]\n",
    "    esinw2 = p[10]\n",
    "    \n",
    "    #Make planets using TTVFaster.planet_planet.hk\n",
    "    planet1 = TTVFaster.Planet_plane_hk(mass_ratio1, per1, trans01, ecosw1, esinw1)\n",
    "    planet2 = TTVFaster.Planet_plane_hk(mass_ratio2, per2, trans02, ecosw2, esinw2)\n",
    "    \n",
    "    #Make empty arrays for ttv1 and ttv2 that will be created in the computer_ttv! function\n",
    "    ttv1 = zeros(length(time1))\n",
    "    ttv2 = zeros(length(time2))\n",
    "    \n",
    "    #Feed things into compute_ttv function\n",
    "    jmax = 3\n",
    "    TTVFaster.compute_ttv!(jmax, planet1, planet2, time1, time2, ttv1, ttv2)\n",
    "    \n",
    "    return ttv1, ttv2\n",
    "end"
   ]
  },
  {
   "cell_type": "code",
   "execution_count": 16,
   "metadata": {
    "collapsed": false
   },
   "outputs": [
    {
     "ename": "LoadError",
     "evalue": "LoadError: UndefVarError: times1 not defined\nwhile loading In[16], in expression starting on line 2",
     "output_type": "error",
     "traceback": [
      "LoadError: UndefVarError: times1 not defined\nwhile loading In[16], in expression starting on line 2",
      ""
     ]
    }
   ],
   "source": [
    "#Parameters used for feeding in planet 1 and planet 2\n",
    "params12 = [3.0E-6, period(times1), 1, 0.05, 0.05, 3.0E-6, period(times2), 1, 0.05, 0.05]\n",
    "ttv12, ttv21 = ttv_wrapper(times1, times2, params12)"
   ]
  },
  {
   "cell_type": "code",
   "execution_count": 17,
   "metadata": {
    "collapsed": false,
    "scrolled": false
   },
   "outputs": [
    {
     "ename": "LoadError",
     "evalue": "LoadError: UndefVarError: ttv12 not defined\nwhile loading In[17], in expression starting on line 1",
     "output_type": "error",
     "traceback": [
      "LoadError: UndefVarError: ttv12 not defined\nwhile loading In[17], in expression starting on line 1",
      ""
     ]
    }
   ],
   "source": [
    "plot(ttv12, \"o-\")"
   ]
  },
  {
   "cell_type": "code",
   "execution_count": 18,
   "metadata": {
    "collapsed": false,
    "scrolled": true
   },
   "outputs": [
    {
     "ename": "LoadError",
     "evalue": "LoadError: UndefVarError: ttv21 not defined\nwhile loading In[18], in expression starting on line 1",
     "output_type": "error",
     "traceback": [
      "LoadError: UndefVarError: ttv21 not defined\nwhile loading In[18], in expression starting on line 1",
      ""
     ]
    }
   ],
   "source": [
    "plot(ttv21, \"o-\")"
   ]
  },
  {
   "cell_type": "code",
   "execution_count": 19,
   "metadata": {
    "collapsed": false
   },
   "outputs": [
    {
     "ename": "LoadError",
     "evalue": "LoadError: UndefVarError: times1 not defined\nwhile loading In[19], in expression starting on line 15",
     "output_type": "error",
     "traceback": [
      "LoadError: UndefVarError: times1 not defined\nwhile loading In[19], in expression starting on line 15",
      ""
     ]
    }
   ],
   "source": [
    "#Set up params for planet 1 and planet 3\n",
    "#Parameters for planet 1\n",
    "   # mass_ratio1 = p[1]\n",
    "    #per1 = p[2]\n",
    "    #trans01 = p[3]\n",
    "    #ecosw1 = p[4]\n",
    "    #esinw1 = p[5]\n",
    "    \n",
    "    #Paramters for planet 2\n",
    "    #mass_ratio2 = p[6]\n",
    "    #per2 = p[7]\n",
    "    #trans02 = p[8]\n",
    "    #ecosw2 = p[9]\n",
    "    #esinw2 = p[10]\n",
    "params13 = [3.0E-6, period(times1), 1, 0.05, 0.05, 1.0E-3, period(times3), 1., 0.05, 0.05]\n",
    "ttv13, ttv31 = ttv_wrapper(times1, times3, params13)"
   ]
  },
  {
   "cell_type": "code",
   "execution_count": 20,
   "metadata": {
    "collapsed": false,
    "scrolled": true
   },
   "outputs": [
    {
     "ename": "LoadError",
     "evalue": "LoadError: UndefVarError: ttv13 not defined\nwhile loading In[20], in expression starting on line 1",
     "output_type": "error",
     "traceback": [
      "LoadError: UndefVarError: ttv13 not defined\nwhile loading In[20], in expression starting on line 1",
      ""
     ]
    }
   ],
   "source": [
    "plot(ttv13, \"-o\")"
   ]
  },
  {
   "cell_type": "code",
   "execution_count": 21,
   "metadata": {
    "collapsed": false
   },
   "outputs": [
    {
     "ename": "LoadError",
     "evalue": "LoadError: UndefVarError: times2 not defined\nwhile loading In[21], in expression starting on line 1",
     "output_type": "error",
     "traceback": [
      "LoadError: UndefVarError: times2 not defined\nwhile loading In[21], in expression starting on line 1",
      ""
     ]
    }
   ],
   "source": [
    "params23 = [3.0E-6, period(times2), 1, 0.05, 0.05, 1.0E-3, period(times3), 1., 0.05, 0.05]\n",
    "ttv23, ttv32 = ttv_wrapper(times2, times3, params23) ;"
   ]
  },
  {
   "cell_type": "code",
   "execution_count": 22,
   "metadata": {
    "collapsed": false,
    "scrolled": true
   },
   "outputs": [
    {
     "ename": "LoadError",
     "evalue": "LoadError: UndefVarError: ttv23 not defined\nwhile loading In[22], in expression starting on line 1",
     "output_type": "error",
     "traceback": [
      "LoadError: UndefVarError: ttv23 not defined\nwhile loading In[22], in expression starting on line 1",
      ""
     ]
    }
   ],
   "source": [
    "plot(ttv23, \"-o\")"
   ]
  },
  {
   "cell_type": "code",
   "execution_count": 23,
   "metadata": {
    "collapsed": false
   },
   "outputs": [
    {
     "ename": "LoadError",
     "evalue": "LoadError: UndefVarError: ttv12 not defined\nwhile loading In[23], in expression starting on line 1",
     "output_type": "error",
     "traceback": [
      "LoadError: UndefVarError: ttv12 not defined\nwhile loading In[23], in expression starting on line 1",
      ""
     ]
    }
   ],
   "source": [
    "plot(ttv12+ttv13, \"-o\")"
   ]
  }
 ],
 "metadata": {
  "kernelspec": {
   "display_name": "Julia 0.4.5",
   "language": "julia",
   "name": "julia-0.4"
  },
  "language_info": {
   "file_extension": ".jl",
   "mimetype": "application/julia",
   "name": "julia",
   "version": "0.4.5"
  }
 },
 "nbformat": 4,
 "nbformat_minor": 0
}
