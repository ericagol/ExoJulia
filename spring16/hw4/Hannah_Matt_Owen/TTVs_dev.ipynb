{
 "cells": [
  {
   "cell_type": "code",
   "execution_count": 11,
   "metadata": {
    "collapsed": false
   },
   "outputs": [
    {
     "name": "stderr",
     "output_type": "stream",
     "text": [
      "WARNING: replacing module TTVFaster\n",
      "WARNING: using TTVFaster.compute_ttv! in module Main conflicts with an existing identifier.\n",
      "WARNING: using TTVFaster.Planet_plane_hk in module Main conflicts with an existing identifier.\n"
     ]
    }
   ],
   "source": [
    "using LsqFit\n",
    "using PyPlot\n",
    "\n",
    "include(\"../compute_ttv.jl\")\n",
    "using TTVFaster"
   ]
  },
  {
   "cell_type": "markdown",
   "metadata": {},
   "source": [
    "## 2 planets"
   ]
  },
  {
   "cell_type": "code",
   "execution_count": 2,
   "metadata": {
    "collapsed": false
   },
   "outputs": [],
   "source": [
    "p1 = readdlm(\"../ttv_planet1.txt\");\n",
    "p2 = readdlm(\"../ttv_planet2.txt\");"
   ]
  },
  {
   "cell_type": "code",
   "execution_count": 3,
   "metadata": {
    "collapsed": false
   },
   "outputs": [],
   "source": [
    "data = [p1;p2][:]\n",
    "function model_func(useless_input_x, params) #curve fit makes us take the first parameter\n",
    "    \n",
    "    planet1 = Planet_plane_hk(params[1],params[2],params[3],params[4],params[5]);\n",
    "    planet2 = Planet_plane_hk(params[6],params[7],params[8],params[9],params[10]);\n",
    "\n",
    "    ttv1 = zeros(length(p1));\n",
    "    ttv2 = zeros(length(p2));\n",
    "    \n",
    "    ttv_data_p1 = planet1.period.*collect(1:1:length(p1)) + planet1.trans0\n",
    "    ttv_data_p2 = planet2.period.*collect(1:1:length(p2)) + planet2.trans0\n",
    "\n",
    "    # compute_ttv!(5, planet1, planet2, p1[:], p2[:], ttv1, ttv2);\n",
    "    compute_ttv!(25, planet1, planet2, ttv_data_p1, ttv_data_p2, ttv1, ttv2);\n",
    "\n",
    "    results1 = zeros(length(p1))\n",
    "    results2 = zeros(length(p2))\n",
    "    for j=1:length(p1)\n",
    "        results1[j] = results1[j] + (j-1)*planet1.period + planet1.trans0\n",
    "    end\n",
    "\n",
    "    for j=1:length(p2)\n",
    "        results2[j] = results2[j] + (j-1)*planet2.period + planet2.trans0\n",
    "    end\n",
    "\n",
    "    results2 = results2 + ttv2;\n",
    "    results1 = results1 + ttv1;\n",
    "\n",
    "    results = [results1;results2]\n",
    "    return results\n",
    "end;"
   ]
  },
  {
   "cell_type": "code",
   "execution_count": 4,
   "metadata": {
    "collapsed": false
   },
   "outputs": [],
   "source": [
    "p0 = [2.44e-6, 224.7008, 8445, 0.5, 0.5, 3e-6, 365.256, 8461, 0.5, 0.5]\n",
    "fit = curve_fit(model_func, [], data, p0);"
   ]
  },
  {
   "cell_type": "markdown",
   "metadata": {},
   "source": [
    "# curve fit returns:\n",
    "- mass_ratio\n",
    "- period\n",
    "- trans0\n",
    "- ecosw\n",
    "- esinw\n",
    "\n",
    "note: e times cos or sin of longitude of periastron measured from line of sight, in radians:"
   ]
  },
  {
   "cell_type": "code",
   "execution_count": 5,
   "metadata": {
    "collapsed": false,
    "scrolled": true
   },
   "outputs": [
    {
     "data": {
      "text/plain": [
       "10-element Array{Float64,1}:\n",
       "   -3.77575e-8\n",
       "  224.701     \n",
       " 8445.5       \n",
       "   -9.9815    \n",
       "   -0.130602  \n",
       "   -1.17061e-7\n",
       "  365.256     \n",
       " 8461.76      \n",
       "   -7.60067   \n",
       "    0.344813  "
      ]
     },
     "execution_count": 5,
     "metadata": {},
     "output_type": "execute_result"
    }
   ],
   "source": [
    "fit.param"
   ]
  },
  {
   "cell_type": "code",
   "execution_count": null,
   "metadata": {
    "collapsed": true
   },
   "outputs": [],
   "source": []
  }
 ],
 "metadata": {
  "kernelspec": {
   "display_name": "Julia 0.4.5",
   "language": "julia",
   "name": "julia-0.4"
  },
  "language_info": {
   "file_extension": ".jl",
   "mimetype": "application/julia",
   "name": "julia",
   "version": "0.4.5"
  }
 },
 "nbformat": 4,
 "nbformat_minor": 0
}
