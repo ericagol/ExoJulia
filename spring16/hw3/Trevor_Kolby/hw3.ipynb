{
 "cells": [
  {
   "cell_type": "code",
   "execution_count": 2,
   "metadata": {
    "collapsed": false
   },
   "outputs": [],
   "source": [
    "using PyPlot"
   ]
  },
  {
   "cell_type": "code",
   "execution_count": 3,
   "metadata": {
    "collapsed": false
   },
   "outputs": [],
   "source": [
    "using LsqFit"
   ]
  },
  {
   "cell_type": "code",
   "execution_count": 4,
   "metadata": {
    "collapsed": false
   },
   "outputs": [
    {
     "data": {
      "text/plain": [
       "alpha (generic function with 1 method)"
      ]
     },
     "execution_count": 4,
     "metadata": {},
     "output_type": "execute_result"
    }
   ],
   "source": [
    "#Angle between line connecting center of planet to where edge of planet meets edge of star\n",
    "#and the line connecting planet center to star center\n",
    "alpha(r::Float64,k::Float64,l::Float64) = acos((r^2.0 + k^2.0 - l^2.0)/(2.0*k*r))    "
   ]
  },
  {
   "cell_type": "code",
   "execution_count": 5,
   "metadata": {
    "collapsed": false
   },
   "outputs": [
    {
     "data": {
      "text/plain": [
       "beta2 (generic function with 1 method)"
      ]
     },
     "execution_count": 5,
     "metadata": {},
     "output_type": "execute_result"
    }
   ],
   "source": [
    "#Angle between line connecting centers of planet and star and line connecting center of star to\n",
    "#where edge of planet meets edge of star\n",
    "beta2(r::Float64,k::Float64,l::Float64) = acos((r^2.0 + l^2.0 - k^2.0)/(2.0*l*r))  "
   ]
  },
  {
   "cell_type": "code",
   "execution_count": 6,
   "metadata": {
    "collapsed": false
   },
   "outputs": [
    {
     "data": {
      "text/plain": [
       "r (generic function with 1 method)"
      ]
     },
     "execution_count": 6,
     "metadata": {},
     "output_type": "execute_result"
    }
   ],
   "source": [
    "#projected distance between center of planet and star \n",
    "function r(tau::Array{Float64},b::Float64,k::Float64,l::Float64,T::Float64)\n",
    "    v = 2.0*sqrt((k+l)^2.0-b^2.0)/T\n",
    "    return sqrt(b^2.0 .+ (v.*tau).^2.0)\n",
    "end"
   ]
  },
  {
   "cell_type": "code",
   "execution_count": 7,
   "metadata": {
    "collapsed": false
   },
   "outputs": [
    {
     "data": {
      "text/plain": [
       "tau (generic function with 1 method)"
      ]
     },
     "execution_count": 7,
     "metadata": {},
     "output_type": "execute_result"
    }
   ],
   "source": [
    "#Time before/after center of transit, modulo the period\n",
    "tau(t::Array{Float64},P::Float64,t_n::Float64) = mod(t.-t_n+(P/2),P)-(P/2.0)"
   ]
  },
  {
   "cell_type": "code",
   "execution_count": 8,
   "metadata": {
    "collapsed": false
   },
   "outputs": [
    {
     "data": {
      "text/plain": [
       "overlap (generic function with 1 method)"
      ]
     },
     "execution_count": 8,
     "metadata": {},
     "output_type": "execute_result"
    }
   ],
   "source": [
    "#Overlapping area of two circles of radius k (planet) and l (star)\n",
    "function overlap(rs::Array{Float64},k::Float64,l::Float64)\n",
    "    result = Float64[]\n",
    "    for r in rs\n",
    "        if r >= l+k\n",
    "            push!(result,0.0)\n",
    "        elseif r <= l-k\n",
    "            push!(result,pi*k^2.0)\n",
    "        else\n",
    "            push!(result,(k^2.0)*(alpha(r,k,l)-cos(alpha(r,k,l))*sin(alpha(r,k,l)))+(l^2.0)*(beta2(r,k,l)-cos(beta2(r,k,l))*sin(beta2(r,k,l))))\n",
    "        end\n",
    "    end\n",
    "    return result\n",
    "end"
   ]
  },
  {
   "cell_type": "code",
   "execution_count": 9,
   "metadata": {
    "collapsed": false
   },
   "outputs": [
    {
     "data": {
      "text/plain": [
       "transit (generic function with 1 method)"
      ]
     },
     "execution_count": 9,
     "metadata": {},
     "output_type": "execute_result"
    }
   ],
   "source": [
    "#Computes the transit depth as a function of time\n",
    "function transit(ts::Array{Float64},params::Array{Float64})\n",
    "    #params is [F_s,k,l,P,T,t_n,b]\n",
    "    taus = tau(ts,params[4],params[6])\n",
    "    rs = r(taus,params[7],params[2],params[3],params[5])\n",
    "    overlaps = overlap(rs,params[2],params[3])\n",
    "    return params[1]*(1.0.-overlaps./(pi*params[3]^2.0))\n",
    "end"
   ]
  },
  {
   "cell_type": "code",
   "execution_count": 10,
   "metadata": {
    "collapsed": false
   },
   "outputs": [
    {
     "data": {
      "text/plain": [
       "occultation (generic function with 1 method)"
      ]
     },
     "execution_count": 10,
     "metadata": {},
     "output_type": "execute_result"
    }
   ],
   "source": [
    "#Can be used for secondary occultation if desired (requires an extra parameter)\n",
    "function occultation(ts::Array{Float64},params::Array{Float64})\n",
    "    #params is [F_p,k,l,P,T,t_n,b]\n",
    "    taus = tau(ts-(params[4]/2.0),params[4],params[6])\n",
    "    rs = r(taus,params[7],params[2],params[3],params[5])\n",
    "    overlaps = overlap(rs,params[2],params[3])\n",
    "    return params[1]*(1.0.-overlaps./(pi*params[2]^2.0))\n",
    "end"
   ]
  },
  {
   "cell_type": "code",
   "execution_count": 11,
   "metadata": {
    "collapsed": false
   },
   "outputs": [
    {
     "data": {
      "text/plain": [
       "transit_P_guess_init (generic function with 1 method)"
      ]
     },
     "execution_count": 11,
     "metadata": {},
     "output_type": "execute_result"
    }
   ],
   "source": [
    "# First guess at period, accurate to within 1 day\n",
    "function transit_P_guess_init(x_data::Array{Float64},y_data::Array{Float64})\n",
    "    arr = hcat(x_data,y_data)\n",
    "    lowest = sortrows(arr, by=x->(x[2])) #sort all points by increasing flux\n",
    "    mins = sort(unique(round(lowest[1:50,1]))) #take the dimmest 50 points, sort by time rounded\n",
    "    return maximum(diff(mins)) \n",
    "end"
   ]
  },
  {
   "cell_type": "code",
   "execution_count": 12,
   "metadata": {
    "collapsed": false
   },
   "outputs": [
    {
     "data": {
      "text/plain": [
       "transit_tn_guess_init (generic function with 1 method)"
      ]
     },
     "execution_count": 12,
     "metadata": {},
     "output_type": "execute_result"
    }
   ],
   "source": [
    "#First guess for the time of transit, assume its the time of minimum flux\n",
    "transit_tn_guess_init(x_data::Array{Float64},y_data::Array{Float64}) = x_data[findmin(y_data)[2]]"
   ]
  },
  {
   "cell_type": "code",
   "execution_count": 13,
   "metadata": {
    "collapsed": false
   },
   "outputs": [
    {
     "data": {
      "text/plain": [
       "transit_P_guess (generic function with 1 method)"
      ]
     },
     "execution_count": 13,
     "metadata": {},
     "output_type": "execute_result"
    }
   ],
   "source": [
    "#Now let's search around our initial period guess, phase fold the data, and search for the period \n",
    "#such that we minimize the mean value of the measured flux around the center of the transit\n",
    "function transit_P_guess(x_data::Array{Float64},y_data::Array{Float64},P_guess::Float64,t_n::Float64)\n",
    "    #period guess will be to the nearest day. Let's make an array of 100 points between the nearest two days\n",
    "    P_arr = linspace(P_guess-1,P_guess+1,100)\n",
    "    mean_arr = Float64[]\n",
    "    for P in P_arr\n",
    "        phases = (tau(x_data,P,t_n)/P)+0.5\n",
    "        push!(mean_arr,mean(y_data[0.495.<=phases.<=0.505]))\n",
    "    end\n",
    "    return P_arr[mean_arr.==minimum(mean_arr)][1]\n",
    "end"
   ]
  },
  {
   "cell_type": "code",
   "execution_count": 14,
   "metadata": {
    "collapsed": false
   },
   "outputs": [
    {
     "data": {
      "text/plain": [
       "transit_tn_guess (generic function with 1 method)"
      ]
     },
     "execution_count": 14,
     "metadata": {},
     "output_type": "execute_result"
    }
   ],
   "source": [
    "# Now that we have a much better period, take the median phase of the 75 faintest points, find \n",
    "# offset from the center of transit, and adjust the center of transit time accordingly\n",
    "function transit_tn_guess(x_data::Array{Float64},y_data::Array{Float64},P::Float64,t_n::Float64)\n",
    "    phases = (tau(x_data,P,t_n)/P)+0.5\n",
    "    y_low = sort(y_data)[1:75]\n",
    "    return t_n+(median(phases[findin(y_low,y_data)])-0.5)*P\n",
    "end"
   ]
  },
  {
   "cell_type": "code",
   "execution_count": 15,
   "metadata": {
    "collapsed": false
   },
   "outputs": [
    {
     "data": {
      "text/plain": [
       "transit_Fs_guess (generic function with 1 method)"
      ]
     },
     "execution_count": 15,
     "metadata": {},
     "output_type": "execute_result"
    }
   ],
   "source": [
    "#determines a best guess for star flux\n",
    "transit_Fs_guess(y_data::Array{Float64}) = median(round(y_data))"
   ]
  },
  {
   "cell_type": "code",
   "execution_count": 16,
   "metadata": {
    "collapsed": false
   },
   "outputs": [
    {
     "data": {
      "text/plain": [
       "transit_k_guess (generic function with 1 method)"
      ]
     },
     "execution_count": 16,
     "metadata": {},
     "output_type": "execute_result"
    }
   ],
   "source": [
    "#Assume l~R_sun. Calculate a rough transit depth, which gives ratio of radii squared.\n",
    "#This will give an underestimate for when b>l-k (planet disk never fully overlaps the star)\n",
    "function transit_k_guess(y_data::Array{Float64},F_s::Float64)\n",
    "    l = 6.96e10\n",
    "    ysort = sort(y_data)\n",
    "    depth_guess = 1.0 - median(ysort[1:100])/F_s\n",
    "    return sqrt(depth_guess)*l\n",
    "end"
   ]
  },
  {
   "cell_type": "code",
   "execution_count": 17,
   "metadata": {
    "collapsed": false
   },
   "outputs": [
    {
     "data": {
      "text/plain": [
       "transit_T_guess (generic function with 1 method)"
      ]
     },
     "execution_count": 17,
     "metadata": {},
     "output_type": "execute_result"
    }
   ],
   "source": [
    "#Guess the transit duration by starting at the center of transit, and moving outward til the\n",
    "#mean of the three nearest points starts to stabilize around the best fit star flux\n",
    "function transit_T_guess(x_data::Array{Float64},y_data::Array{Float64},t_i::Float64,F_s::Float64)\n",
    "    i_init = find(x_data .== t_i)[1]\n",
    "    i = i_init\n",
    "    av = 0.0\n",
    "    while (F_s - av) >= 0.0015*F_s\n",
    "        av = mean([y_data[i-1];y_data[i];y_data[i+1]])\n",
    "        i += 1\n",
    "    end\n",
    "    return 2.0*(x_data[i]-x_data[i_init])\n",
    "end"
   ]
  },
  {
   "cell_type": "code",
   "execution_count": 18,
   "metadata": {
    "collapsed": false
   },
   "outputs": [
    {
     "data": {
      "text/plain": [
       "fit_transit (generic function with 1 method)"
      ]
     },
     "execution_count": 18,
     "metadata": {},
     "output_type": "execute_result"
    }
   ],
   "source": [
    "#Fit function just wraps up all of the guesses and then fits, returns a fit object.\n",
    "#to get params, simply do result = fit_transit(x_data,y_data,y_err) then result.param\n",
    "function fit_transit(x_data::Array{Float64},y_data::Array{Float64},y_err::Array{Float64})\n",
    "    l_guess = 6.96e10\n",
    "    P_guess_init = transit_P_guess_init(x_data,y_data)\n",
    "    tn_guess_init = transit_tn_guess_init(x_data,y_data)\n",
    "    P_guess = transit_P_guess(x_data,y_data,P_guess_init,tn_guess_init)\n",
    "    tn_guess = transit_tn_guess(x_data,y_data,P_guess,tn_guess_init)\n",
    "    F_guess = transit_Fs_guess(y_data)\n",
    "    k_guess = transit_k_guess(y_data,F_guess)\n",
    "    T_guess = transit_T_guess(x_data,y_data,tn_guess_init,F_guess)\n",
    "    offset = (tn_guess-tn_guess_init)/tn_guess\n",
    "    p0 = [F_guess,k_guess,l_guess,P_guess,T_guess,tn_guess_init+abs(offset),0.0]\n",
    "    fit = curve_fit(transit,x_data,y_data,(1.0./y_err).^2.0,p0)\n",
    "    return fit\n",
    "end"
   ]
  },
  {
   "cell_type": "code",
   "execution_count": 19,
   "metadata": {
    "collapsed": false
   },
   "outputs": [],
   "source": [
    "#Read in data, separate into arrays\n",
    "data = readdlm(\"mystery_planet2.txt\",Float64) \n",
    "times = data[:,1]\n",
    "flux0 = data[:,2]\n",
    "flux = flux0/maximum(flux0)\n",
    "flux_err = data[:,3] ;"
   ]
  },
  {
   "cell_type": "code",
   "execution_count": 31,
   "metadata": {
    "collapsed": false
   },
   "outputs": [
    {
     "name": "stdout",
     "output_type": "stream",
     "text": [
      "  0.161920 seconds (608.00 k allocations: 105.203 MB, 8.32% gc time)\n"
     ]
    }
   ],
   "source": [
    "@time result = fit_transit(times,flux0,flux_err) ;"
   ]
  },
  {
   "cell_type": "code",
   "execution_count": 32,
   "metadata": {
    "collapsed": false
   },
   "outputs": [
    {
     "name": "stdout",
     "output_type": "stream",
     "text": [
      "82 task.jl; anonymous; line: 447\n",
      " 82 ...4/IJulia/src/IJulia.jl; eventloop; line: 141\n",
      "  82 ...rc/execute_request.jl; execute_request_0x535c5df2; line: 177\n",
      "   82 loading.jl; include_string; line: 282\n",
      "    81 profile.jl; anonymous; line: 16\n",
      "     43 In[18]; fit_transit; line: 3\n",
      "      43 In[11]; transit_P_guess_init; line: 5\n",
      "       43 sort.jl; sortrows; line: 504\n",
      "        43 sort.jl; sort!; line: 402\n",
      "         12 sort.jl; sort!; line: 293\n",
      "          8 sort.jl; partition!; line: 277\n",
      "           8 ordering.jl; lt; line: 55\n",
      "            7 In[11]; anonymous; line: 5\n",
      "             5 subarray.jl; getindex; line: 543\n",
      "          4 sort.jl; partition!; line: 278\n",
      "           1 ordering.jl; lt; line: 54\n",
      "           2 ordering.jl; lt; line: 55\n",
      "            1 In[11]; anonymous; line: 5\n",
      "         9  sort.jl; sort!; line: 298\n",
      "          4 sort.jl; sort!; line: 293\n",
      "           2 sort.jl; partition!; line: 277\n",
      "            2 ordering.jl; lt; line: 55\n",
      "             2 In[11]; anonymous; line: 5\n",
      "           2 sort.jl; partition!; line: 278\n",
      "            2 ordering.jl; lt; line: 55\n",
      "             1 In[11]; anonymous; line: 5\n",
      "          4 sort.jl; sort!; line: 298\n",
      "           2 sort.jl; sort!; line: 298\n",
      "            2 sort.jl; sort!; line: 301\n",
      "             1 sort.jl; sort!; line: 292\n",
      "              1 sort.jl; sort!; line: 221\n",
      "               1 ordering.jl; lt; line: 55\n",
      "                1 In[11]; anonymous; line: 5\n",
      "                 1 subarray.jl; getindex; line: 543\n",
      "             1 sort.jl; sort!; line: 301\n",
      "              1 sort.jl; sort!; line: 292\n",
      "               1 sort.jl; sort!; line: 221\n",
      "                1 ordering.jl; lt; line: 55\n",
      "                 1 In[11]; anonymous; line: 5\n",
      "           2 sort.jl; sort!; line: 301\n",
      "            2 sort.jl; sort!; line: 292\n",
      "             2 sort.jl; sort!; line: 221\n",
      "              2 ordering.jl; lt; line: 55\n",
      "               2 In[11]; anonymous; line: 5\n",
      "          1 sort.jl; sort!; line: 301\n",
      "           1 sort.jl; sort!; line: 298\n",
      "            1 sort.jl; sort!; line: 293\n",
      "             1 sort.jl; partition!; line: 278\n",
      "              1 ordering.jl; lt; line: 55\n",
      "         22 sort.jl; sort!; line: 301\n",
      "          1 sort.jl; sort!; line: 292\n",
      "           1 sort.jl; sort!; line: 221\n",
      "            1 ordering.jl; lt; line: 55\n",
      "          6 sort.jl; sort!; line: 293\n",
      "           4 sort.jl; partition!; line: 277\n",
      "            3 ordering.jl; lt; line: 55\n",
      "             1 ...ib/julia/sys.dylib; isless; (unknown line)\n",
      "             2 In[11]; anonymous; line: 5\n",
      "           2 sort.jl; partition!; line: 278\n",
      "            1 ordering.jl; lt; line: 55\n",
      "          9 sort.jl; sort!; line: 298\n",
      "           1 sort.jl; sort!; line: 292\n",
      "            1 sort.jl; sort!; line: 221\n",
      "             1 ordering.jl; lt; line: 55\n",
      "           3 sort.jl; sort!; line: 293\n",
      "            2 sort.jl; partition!; line: 277\n",
      "             2 ordering.jl; lt; line: 55\n",
      "            1 sort.jl; partition!; line: 278\n",
      "             1 ordering.jl; lt; line: 55\n",
      "              1 In[11]; anonymous; line: 5\n",
      "           2 sort.jl; sort!; line: 298\n",
      "            1 sort.jl; sort!; line: 292\n",
      "             1 sort.jl; sort!; line: 221\n",
      "              1 ordering.jl; lt; line: 55\n",
      "            1 sort.jl; sort!; line: 301\n",
      "             1 sort.jl; sort!; line: 298\n",
      "              1 sort.jl; sort!; line: 292\n",
      "               1 sort.jl; sort!; line: 221\n",
      "                1 ordering.jl; lt; line: 55\n",
      "           3 sort.jl; sort!; line: 301\n",
      "            1 sort.jl; sort!; line: 298\n",
      "             1 sort.jl; sort!; line: 293\n",
      "              1 sort.jl; partition!; line: 277\n",
      "               1 ordering.jl; lt; line: 55\n",
      "                1 In[11]; anonymous; line: 5\n",
      "                 1 subarray.jl; getindex; line: 543\n",
      "            2 sort.jl; sort!; line: 301\n",
      "             1 sort.jl; sort!; line: 292\n",
      "              1 sort.jl; sort!; line: 221\n",
      "               1 ordering.jl; lt; line: 55\n",
      "                1 In[11]; anonymous; line: 5\n",
      "             1 sort.jl; sort!; line: 293\n",
      "              1 sort.jl; partition!; line: 278\n",
      "               1 ordering.jl; lt; line: 54\n",
      "          6 sort.jl; sort!; line: 301\n",
      "           2 sort.jl; sort!; line: 293\n",
      "            1 sort.jl; partition!; line: 277\n",
      "             1 ordering.jl; lt; line: 55\n",
      "            1 sort.jl; partition!; line: 278\n",
      "             1 ordering.jl; lt; line: 55\n",
      "           3 sort.jl; sort!; line: 298\n",
      "            2 sort.jl; sort!; line: 292\n",
      "             2 sort.jl; sort!; line: 221\n",
      "              2 ordering.jl; lt; line: 55\n",
      "               1 In[11]; anonymous; line: 5\n",
      "            1 sort.jl; sort!; line: 293\n",
      "             1 sort.jl; partition!; line: 277\n",
      "              1 ordering.jl; lt; line: 55\n",
      "               1 In[11]; anonymous; line: 5\n",
      "           1 sort.jl; sort!; line: 301\n",
      "            1 sort.jl; sort!; line: 298\n",
      "             1 sort.jl; sort!; line: 292\n",
      "              1 sort.jl; sort!; line: 221\n",
      "               1 ordering.jl; lt; line: 55\n",
      "                1 In[11]; anonymous; line: 5\n",
      "     21 In[18]; fit_transit; line: 5\n",
      "      17 In[13]; transit_P_guess; line: 6\n",
      "       2  arraymath.jl; .+; line: 125\n",
      "       1  arraymath.jl; .+; line: 127\n",
      "       1  arraymath.jl; .-; line: 127\n",
      "       11 arraymath.jl; ./; line: 49\n",
      "       2  arraymath.jl; mod; line: 127\n",
      "        1 .../lib/julia/sys.dylib; mod; (unknown line)\n",
      "      4  In[13]; transit_P_guess; line: 7\n",
      "       1 broadcast.jl; .<=; line: 422\n",
      "        1 broadcast.jl; bitcache_le; line: 406\n",
      "       1 broadcast.jl; .<=; line: 423\n",
      "        1 .../lib/julia/sys.dylib; dumpbitcache; (unknown line)\n",
      "       2 multidimensional.jl; _unsafe_getindex; line: 212\n",
      "     1  In[18]; fit_transit; line: 6\n",
      "      1 In[14]; transit_tn_guess; line: 3\n",
      "       1 sort.jl; sort; line: 413\n",
      "        1 sort.jl; sort!; line: 600\n",
      "         1 sort.jl; fpsort!; line: 592\n",
      "          1 sort.jl; sort!; line: 298\n",
      "           1 sort.jl; sort!; line: 293\n",
      "            1 sort.jl; partition!; line: 278\n",
      "     1  In[18]; fit_transit; line: 8\n",
      "      1 In[16]; transit_k_guess; line: 5\n",
      "       1 sort.jl; sort; line: 413\n",
      "        1 sort.jl; sort!; line: 600\n",
      "         1 sort.jl; fpsort!; line: 592\n",
      "          1 sort.jl; sort!; line: 293\n",
      "           1 sort.jl; partition!; line: 277\n",
      "     15 In[18]; fit_transit; line: 12\n",
      "      15 ...Fit/src/curve_fit.jl; curve_fit; line: 46\n",
      "       10 ...Fit/src/curve_fit.jl; lmfit; line: 29\n",
      "        7 ...venberg_marquardt.jl; levenberg_marquardt; line: 53\n",
      "         7 ...s/src/derivative.jl; g; line: 23\n",
      "          3 ...inite_difference.jl; finite_difference_jacobian!; line: 182\n",
      "           3 ...it/src/curve_fit.jl; f; line: 45\n",
      "            2 In[9]; transit; line: 3\n",
      "             1 arraymath.jl; .+; line: 125\n",
      "             1 arraymath.jl; mod; line: 127\n",
      "              1 ...ib/julia/sys.dylib; mod; (unknown line)\n",
      "            1 In[9]; transit; line: 4\n",
      "             1 In[6]; r; line: 3\n",
      "              1 arraymath.jl; .^; line: 57\n",
      "          2 ...inite_difference.jl; finite_difference_jacobian!; line: 184\n",
      "           2 ...it/src/curve_fit.jl; f; line: 45\n",
      "            1 In[9]; transit; line: 4\n",
      "             1 In[6]; r; line: 3\n",
      "              1 arraymath.jl; .*; line: 120\n",
      "            1 In[9]; transit; line: 5\n",
      "             1 In[8]; overlap; line: 5\n",
      "          1 ...inite_difference.jl; finite_difference_jacobian!; line: 186\n",
      "           1 abstractarraymath.jl; /; line: 57\n",
      "            1 arraymath.jl; ./; line: 49\n",
      "          1 ...it/src/curve_fit.jl; f; line: 45\n",
      "           1 In[9]; transit; line: 4\n",
      "            1 In[6]; r; line: 3\n",
      "             1 operators.jl; sqrt; line: 380\n",
      "        1 ...venberg_marquardt.jl; levenberg_marquardt; line: 64\n",
      "         1 reducedim.jl; sumabs2; line: 277\n",
      "          1 reducedim.jl; _mapreducedim!; line: 197\n",
      "           1 reduce.jl; mapreduce_pairwise_impl; line: 111\n",
      "            1 reduce.jl; mapreduce_pairwise_impl; line: 111\n",
      "             1 reduce.jl; mapreduce_pairwise_impl; line: 108\n",
      "              1 linalg/dense.jl; mapreduce_seq_impl; line: 48\n",
      "        1 ...venberg_marquardt.jl; levenberg_marquardt; line: 70\n",
      "         1 arraymath.jl; ctranspose; line: 414\n",
      "          1 arraymath.jl; transpose!; line: 323\n",
      "           1 arraymath.jl; transposeblock!; line: 347\n",
      "            1 arraymath.jl; transposeblock!; line: 346\n",
      "             1 arraymath.jl; transposeblock!; line: 347\n",
      "              1 arraymath.jl; transposeblock!; line: 347\n",
      "               1 arraymath.jl; transposeblock!; line: 347\n",
      "                1 arraymath.jl; transposeblock!; line: 346\n",
      "                 1 arraymath.jl; transposeblock!; line: 346\n",
      "                  1 arraymath.jl; transposeblock!; line: 347\n",
      "                   1 arraymath.jl; transposeblock!; line: 346\n",
      "                    1 arraymath.jl; transposeblock!; line: 347\n",
      "                     1 arraymath.jl; transposeblock!; line: 347\n",
      "                      1 arraymath.jl; transposeblock!; line: 340\n",
      "        1 ...venberg_marquardt.jl; levenberg_marquardt; line: 83\n",
      "         1 reduce.jl; mapreduce; line: 159\n",
      "          1 reduce.jl; _mapreduce; line: 153\n",
      "           1 reduce.jl; mapreduce_pairwise_impl; line: 111\n",
      "            1 reduce.jl; mapreduce_pairwise_impl; line: 111\n",
      "             1 reduce.jl; mapreduce_pairwise_impl; line: 108\n",
      "              1 linalg/dense.jl; mapreduce_seq_impl; line: 48\n",
      "       5  ...Fit/src/curve_fit.jl; lmfit; line: 33\n",
      "        4 ...us/src/derivative.jl; g; line: 23\n",
      "         1 ...inite_difference.jl; finite_difference_jacobian!; line: 182\n",
      "          1 ...it/src/curve_fit.jl; f; line: 45\n",
      "           1 In[9]; transit; line: 4\n",
      "            1 In[6]; r; line: 3\n",
      "             1 arraymath.jl; .^; line: 57\n",
      "         3 ...inite_difference.jl; finite_difference_jacobian!; line: 184\n",
      "          3 ...it/src/curve_fit.jl; f; line: 45\n",
      "           2 In[9]; transit; line: 3\n",
      "            1 arraymath.jl; .-; line: 127\n",
      "            1 arraymath.jl; mod; line: 127\n",
      "           1 arraymath.jl; -; line: 98\n",
      "        1 ...Fit/src/curve_fit.jl; f; line: 45\n",
      "         1 In[9]; transit; line: 6\n",
      "          1 arraymath.jl; ./; line: 49\n"
     ]
    }
   ],
   "source": [
    "#fit_transit is pretty heavy on memory allocation. Seems like the most time is spent by curve_fit\n",
    "#and by the sorting...\n",
    "@profile result = fit_transit(times,flux0,flux_err) ;\n",
    "Profile.print() ;"
   ]
  },
  {
   "cell_type": "code",
   "execution_count": 33,
   "metadata": {
    "collapsed": false
   },
   "outputs": [
    {
     "data": {
      "text/plain": [
       "plot_transit (generic function with 1 method)"
      ]
     },
     "execution_count": 33,
     "metadata": {},
     "output_type": "execute_result"
    }
   ],
   "source": [
    "function plot_transit(x_data::Array{Float64},y_data::Array{Float64},fit::LsqFit.LsqFitResult{Float64})\n",
    "    #Outputs a phase folded normalized plot of light curve (points) with best fit (line)\n",
    "    params = fit.param\n",
    "    P = params[4]\n",
    "    t_n = params[6]\n",
    "    T = params[5]\n",
    "    F0 = params[1]\n",
    "    norm_flux = y_data/F0\n",
    "    y_fit = transit(x_data,params)/F0\n",
    "    phases = (tau(x_data,P,t_n)/P)+0.5\n",
    "    \n",
    "    v = sortperm(phases)   \n",
    "    scatter(phases[v], norm_flux[v], color = \"k\", alpha=0.2)\n",
    "    plot(phases[v],y_fit[v],\"-r\") \n",
    "    xlim(0.5-(1.5*T/P),0.5+(1.5*T/P));\n",
    "end"
   ]
  },
  {
   "cell_type": "code",
   "execution_count": 27,
   "metadata": {
    "collapsed": false
   },
   "outputs": [
    {
     "data": {
      "image/png": "[encoded data removed]",
      "text/plain": [
       "PyPlot.Figure(PyObject <matplotlib.figure.Figure object at 0x309ad2690>)"
      ]
     },
     "metadata": {},
     "output_type": "display_data"
    }
   ],
   "source": [
    "plot_transit(times,flux0,result);"
   ]
  },
  {
   "cell_type": "code",
   "execution_count": 28,
   "metadata": {
    "collapsed": false
   },
   "outputs": [
    {
     "data": {
      "text/plain": [
       "density (generic function with 1 method)"
      ]
     },
     "execution_count": 28,
     "metadata": {},
     "output_type": "execute_result"
    }
   ],
   "source": [
    "#Calculates the density of the star based on the fit!\n",
    "function density(x_data::Array{Float64},fit::LsqFit.LsqFitResult{Float64})\n",
    "    Msun = 1.9891e33  # g\n",
    "    Rsun = 6.955e10   # cm\n",
    "    \n",
    "    P = fit.param[4]+0.19\n",
    "    T = fit.param[5]\n",
    "    F0 = fit.param[1]\n",
    "    y_fit = transit(x_data,fit.param)/F0\n",
    "    b = fit.param[7]*Rsun\n",
    "    dflux = maximum(1.0-y_fit)\n",
    "    \n",
    "    # factor to put it in units of sun\n",
    "    factor = (365.25^2.0/215.^3.0)*(Msun / Rsun^3.0)\n",
    "    rho = (factor/P^2.0) * ((1+sqrt(dflux))^2.0 -(b^2.0*(1-(sinpi(T/P))^2.0))/(sinpi(T/P)^2.0))^1.5\n",
    "    return rho\n",
    "end"
   ]
  },
  {
   "cell_type": "code",
   "execution_count": 35,
   "metadata": {
    "collapsed": false
   },
   "outputs": [
    {
     "name": "stdout",
     "output_type": "stream",
     "text": [
      "Density = 0.0006020179209933032 g/cm^3\n"
     ]
    }
   ],
   "source": [
    "foo = density(times,result)\n",
    "println(\"Density = $foo g/cm^3\")"
   ]
  },
  {
   "cell_type": "code",
   "execution_count": 37,
   "metadata": {
    "collapsed": false
   },
   "outputs": [
    {
     "name": "stdout",
     "output_type": "stream",
     "text": [
      "F_0 = 22933.148317245374\n",
      "k = 3.5119477157800837e9\n",
      "l = 6.960000000000008e10\n",
      "P = 12.17172572060357\n",
      "T = 0.4601862920775658\n",
      "t_n = 12.984198514708178\n",
      "b = 0.0\n"
     ]
    }
   ],
   "source": [
    "for (par,val) in zip([\"F_0\";\"k\";\"l\";\"P\";\"T\";\"t_n\";\"b\"],result.param)\n",
    "    println(\"$par = $val\")\n",
    "end"
   ]
  },
  {
   "cell_type": "code",
   "execution_count": null,
   "metadata": {
    "collapsed": true
   },
   "outputs": [],
   "source": []
  }
 ],
 "metadata": {
  "kernelspec": {
   "display_name": "Julia 0.4.5",
   "language": "julia",
   "name": "julia-0.4"
  },
  "language_info": {
   "file_extension": ".jl",
   "mimetype": "application/julia",
   "name": "julia",
   "version": "0.4.5"
  }
 },
 "nbformat": 4,
 "nbformat_minor": 0
}
