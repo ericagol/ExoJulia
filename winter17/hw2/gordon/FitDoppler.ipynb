{
 "cells": [
  {
   "cell_type": "code",
   "execution_count": 1,
   "metadata": {
    "collapsed": false
   },
   "outputs": [
    {
     "name": "stderr",
     "output_type": "stream",
     "text": [
      "WARNING: using KeplerSolver.KeplerSolver in module Doppler conflicts with an existing identifier.\n",
      "/Users/tgordon/.julia/v0.5/Conda/deps/usr/lib/python2.7/site-packages/matplotlib/font_manager.py:273: UserWarning: Matplotlib is building the font cache using fc-list. This may take a moment.\n",
      "  warnings.warn('Matplotlib is building the font cache using fc-list. This may take a moment.')\n"
     ]
    }
   ],
   "source": [
    "include(\"./KeplerSolver.jl\")\n",
    "include(\"./Doppler.jl\")\n",
    "using Doppler\n",
    "using KeplerSolver\n",
    "using PyPlot\n",
    "using DataFrames\n",
    "using LsqFit"
   ]
  },
  {
   "cell_type": "code",
   "execution_count": 21,
   "metadata": {
    "collapsed": false
   },
   "outputs": [],
   "source": [
    "rv_data = readtable(\"mystery_planet1.txt\", separator = ' ');\n",
    "t = rv_data[1];\n",
    "v = rv_data[2];\n",
    "err = rv_data[3];\n",
    "t = t - t[1];"
   ]
  },
  {
   "cell_type": "code",
   "execution_count": 22,
   "metadata": {
    "collapsed": false
   },
   "outputs": [
    {
     "name": "stderr",
     "output_type": "stream",
     "text": [
      "WARNING: Method definition fold(Any, Any) in module Main at In[15]:2 overwritten at In[22]:2.\n",
      "WARNING: Method definition adjacent_diffs(Any) in module Main at In[15]:6 overwritten at In[22]:6.\n"
     ]
    }
   ],
   "source": [
    "function fold(t, t0)\n",
    "    t = t .% t0 \n",
    "end\n",
    "\n",
    "function adjacent_diffs(v)\n",
    "    sum = 0\n",
    "    for i in 1:length(v)\n",
    "        j = i + 1\n",
    "        if j > length(v)\n",
    "            j = 1\n",
    "        end\n",
    "        sum = sum + abs(v[i] - v[j])\n",
    "    end\n",
    "    return sum\n",
    "end;"
   ]
  },
  {
   "cell_type": "code",
   "execution_count": 28,
   "metadata": {
    "collapsed": false
   },
   "outputs": [],
   "source": [
    "min = adjacent_diffs(v)\n",
    "t0_min = 0\n",
    "t_min = t[1]\n",
    "t_max = t[length(t)]\n",
    "for t0 in linspace(t_min, t_max, 10000)\n",
    "    p = sortperm(fold(t, t0))\n",
    "    diffs = adjacent_diffs(v[p])\n",
    "    if diffs < min\n",
    "        min = diffs\n",
    "        t0_min = t0\n",
    "    end\n",
    "end \n",
    "folded_t = fold(t, t0_min);"
   ]
  },
  {
   "cell_type": "code",
   "execution_count": 29,
   "metadata": {
    "collapsed": false
   },
   "outputs": [
    {
     "name": "stderr",
     "output_type": "stream",
     "text": [
      "WARNING: Method definition model(Any, Any) in module Main at In[24]:2 overwritten at In[29]:2.\n"
     ]
    }
   ],
   "source": [
    "function model(t, params)\n",
    "    P, ecc, tp, gamma, omega, K = params\n",
    "    return vrad(t, P, ecc, tp, gamma, omega, K)\n",
    "end;"
   ]
  },
  {
   "cell_type": "code",
   "execution_count": 30,
   "metadata": {
    "collapsed": false
   },
   "outputs": [],
   "source": [
    "# used this cell to guess initial parameters for LsqFit\n",
    "# plot(folded_t, v, \".\") \n",
    "# plot(folded_t, model(folded_t, [100,0.9,75,0,180, 0.5]), \".\")"
   ]
  },
  {
   "cell_type": "code",
   "execution_count": 31,
   "metadata": {
    "collapsed": false
   },
   "outputs": [
    {
     "name": "stderr",
     "output_type": "stream",
     "text": [
      "\u001b[1m\u001b[31mWARNING: MultivariateOptimizationResults(method,initial_x,minimizer,minimum,iterations,iteration_converged,x_converged,x_tol,f_converged,f_tol,g_converged,g_tol,trace,f_calls,g_calls) is deprecated, use MultivariateOptimizationResults(method,initial_x,minimizer,minimum,iterations,iteration_converged,x_converged,x_tol,f_converged,f_tol,g_converged,g_tol,trace,f_calls,g_calls,0) instead.\u001b[0m\n",
      " in depwarn(::String, ::Symbol) at ./deprecated.jl:64\n",
      " in Optim.MultivariateOptimizationResults{T,N,M}(::String, ::Array{Float64,1}, ::Array{Float64,1}, ::Float64, ::Int64, ::Bool, ::Bool, ::Float64, ::Bool, ::Float64, ::Bool, ::Float64, ::Array{Optim.OptimizationState{LsqFit.LevenbergMarquardt},1}, ::Int64, ::Int64) at ./deprecated.jl:50\n",
      " in #levenberg_marquardt#1(::Float64, ::Float64, ::Int64, ::Float64, ::Bool, ::Array{Float64,1}, ::Array{Float64,1}, ::Function, ::LsqFit.#f#4{#model,Array{Float64,1},Array{Float64,1}}, ::Calculus.#g#5{LsqFit.#f#4{#model,Array{Float64,1},Array{Float64,1}},Symbol}, ::Array{Float64,1}) at /Users/tgordon/.julia/v0.5/LsqFit/src/levenberg_marquardt.jl:169\n",
      " in #lmfit#2(::Array{Any,1}, ::Function, ::LsqFit.#f#4{#model,Array{Float64,1},Array{Float64,1}}, ::Array{Float64,1}) at /Users/tgordon/.julia/v0.5/LsqFit/src/curve_fit.jl:29\n",
      " in #curve_fit#3(::Array{Any,1}, ::Function, ::#model, ::Array{Float64,1}, ::Array{Float64,1}, ::Array{Float64,1}) at /Users/tgordon/.julia/v0.5/LsqFit/src/curve_fit.jl:43\n",
      " in curve_fit(::Function, ::Array{Float64,1}, ::Array{Float64,1}, ::Array{Float64,1}) at /Users/tgordon/.julia/v0.5/LsqFit/src/curve_fit.jl:42\n",
      " in include_string(::String, ::String) at ./loading.jl:441\n",
      " in execute_request(::ZMQ.Socket, ::IJulia.Msg) at /Users/tgordon/.julia/v0.5/IJulia/src/execute_request.jl:175\n",
      " in eventloop(::ZMQ.Socket) at /Users/tgordon/.julia/v0.5/IJulia/src/eventloop.jl:8\n",
      " in (::IJulia.##13#19)() at ./task.jl:360\n",
      "while loading In[31], in expression starting on line 1\n"
     ]
    }
   ],
   "source": [
    "fit = curve_fit(model, convert(Array, folded_t), convert(Array, v), [100,0.9,75,0,180, 0.5]);"
   ]
  },
  {
   "cell_type": "code",
   "execution_count": 32,
   "metadata": {
    "collapsed": false
   },
   "outputs": [
    {
     "data": {
      "image/png": "[encoded data removed]",
      "text/plain": [
       "PyPlot.Figure(PyObject <matplotlib.figure.Figure object at 0x328c89290>)"
      ]
     },
     "metadata": {},
     "output_type": "display_data"
    },
    {
     "name": "stdout",
     "output_type": "stream",
     "text": [
      "params [P, ecc, tp, gamma, omega, K] = [113.547,0.936538,97.5303,0.00204711,181.151,0.477087]\n"
     ]
    }
   ],
   "source": [
    "plot(folded_t, v, \".\")\n",
    "plot(folded_t, model(folded_t, fit.param), \".\")\n",
    "println(\"params [P, ecc, tp, gamma, omega, K] = \", fit.param)"
   ]
  }
 ],
 "metadata": {
  "kernelspec": {
   "display_name": "Julia 0.5.0",
   "language": "julia",
   "name": "julia-0.5"
  },
  "language_info": {
   "file_extension": ".jl",
   "mimetype": "application/julia",
   "name": "julia",
   "version": "0.5.0"
  }
 },
 "nbformat": 4,
 "nbformat_minor": 0
}
