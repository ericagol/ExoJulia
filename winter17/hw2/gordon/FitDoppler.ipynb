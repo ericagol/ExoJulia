{
 "cells": [
  {
   "cell_type": "code",
   "execution_count": null,
   "metadata": {
    "collapsed": false
   },
   "outputs": [],
   "source": [
    "include(\"./KeplerSolver.jl\")\n",
    "include(\"./Doppler.jl\")\n",
    "using Doppler\n",
    "using KeplerSolver\n",
    "using PyPlot\n",
    "using DataFrames\n",
    "using LsqFit"
   ]
  },
  {
   "cell_type": "code",
   "execution_count": null,
   "metadata": {
    "collapsed": false
   },
   "outputs": [],
   "source": [
    "# get the radial velocity data\n",
    "\n",
    "rv_data = readtable(\"mystery_planet1.txt\", separator = ' ');\n",
    "t = rv_data[1];\n",
    "v = rv_data[2];\n",
    "err = rv_data[3];\n",
    "t = t - t[1];"
   ]
  },
  {
   "cell_type": "code",
   "execution_count": null,
   "metadata": {
    "collapsed": false
   },
   "outputs": [],
   "source": [
    "# functions to fold radial velocity curve and to compute the sum of the differences between adjacent RV points\n",
    "\n",
    "function fold(t, t0)\n",
    "    t = t .% t0 \n",
    "end\n",
    "\n",
    "function adjacent_diffs(v)\n",
    "    sum = 0\n",
    "    for i in 1:length(v)\n",
    "        j = i + 1\n",
    "        if j > length(v)\n",
    "            j = 1\n",
    "        end\n",
    "        sum = sum + abs(v[i] - v[j])\n",
    "    end\n",
    "    return sum\n",
    "end;"
   ]
  },
  {
   "cell_type": "code",
   "execution_count": null,
   "metadata": {
    "collapsed": false
   },
   "outputs": [],
   "source": [
    "# find the correct period to fold on\n",
    "\n",
    "min = adjacent_diffs(v)\n",
    "t0_min = 0\n",
    "t_min = t[1]\n",
    "t_max = t[length(t)]\n",
    "for t0 in linspace(t_min, t_max, 10000)\n",
    "    p = sortperm(fold(t, t0))\n",
    "    diffs = adjacent_diffs(v[p])\n",
    "    if diffs < min\n",
    "        min = diffs\n",
    "        t0_min = t0\n",
    "    end\n",
    "end \n",
    "folded_t = fold(t, t0_min);"
   ]
  },
  {
   "cell_type": "code",
   "execution_count": null,
   "metadata": {
    "collapsed": false
   },
   "outputs": [],
   "source": [
    "# model of RV curve\n",
    "\n",
    "function model(t, params)\n",
    "    P, ecc, tp, gamma, omega, K = params\n",
    "    return vrad(t, P, ecc, tp, gamma, omega, K)\n",
    "end;"
   ]
  },
  {
   "cell_type": "code",
   "execution_count": null,
   "metadata": {
    "collapsed": false
   },
   "outputs": [],
   "source": [
    "# used this cell to guess initial parameters for LsqFit\n",
    " plot(folded_t, v, \".\") \n",
    " plot(folded_t, model(folded_t, [100,0.9,75,0,180, 0.5]), \".\")"
   ]
  },
  {
   "cell_type": "code",
   "execution_count": null,
   "metadata": {
    "collapsed": false
   },
   "outputs": [],
   "source": [
    "# fit using LsqFit\n",
    "\n",
    "fit = curve_fit(model, convert(Array, folded_t), convert(Array, v), convert(Array, err), [100,0.9,75,0,180, 0.5]);"
   ]
  },
  {
   "cell_type": "code",
   "execution_count": null,
   "metadata": {
    "collapsed": false
   },
   "outputs": [],
   "source": [
    "# plot the fit and print the parameters\n",
    "\n",
    "plot(folded_t, v, \".\")\n",
    "plot(folded_t, model(folded_t, fit.param), \".\")\n",
    "println(\"params [P, ecc, tp, gamma, omega, K] = \", fit.param)"
   ]
  }
 ],
 "metadata": {
  "kernelspec": {
   "display_name": "Julia 0.5.0",
   "language": "julia",
   "name": "julia-0.5"
  },
  "language_info": {
   "file_extension": ".jl",
   "mimetype": "application/julia",
   "name": "julia",
   "version": "0.5.0"
  }
 },
 "nbformat": 4,
 "nbformat_minor": 0
}
